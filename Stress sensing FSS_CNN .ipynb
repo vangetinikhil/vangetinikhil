{
 "cells": [
  {
   "cell_type": "markdown",
   "id": "6d3a50cf",
   "metadata": {},
   "source": [
    "# Deep learning methodology for stress sensing in FSS:- "
   ]
  },
  {
   "cell_type": "markdown",
   "id": "86dd9cdf",
   "metadata": {},
   "source": [
    "## FSS Deep neural networks: State of the Art Convolutional Neural Networks (VGG-16, VGG-19)"
   ]
  },
  {
   "cell_type": "markdown",
   "id": "5086880c",
   "metadata": {},
   "source": [
    "Importing all module dependencies:- "
   ]
  },
  {
   "cell_type": "code",
   "execution_count": 7,
   "id": "29a783cd",
   "metadata": {},
   "outputs": [
    {
     "name": "stderr",
     "output_type": "stream",
     "text": [
      "Using TensorFlow backend.\n"
     ]
    }
   ],
   "source": [
    "import keras\n",
    "import keras.backend as kb\n",
    "import tensorflow as tf\n",
    "from keras.models import Sequential\n",
    "from sklearn.utils import shuffle\n",
    "from sklearn.model_selection import train_test_split\n",
    "from keras.layers import Dense, Conv2D, MaxPooling2D, Dropout, Flatten\n",
    "from tensorflow.keras.preprocessing.image import ImageDataGenerator\n",
    "from tensorflow.keras import layers\n",
    "from keras.applications.vgg16 import VGG16\n",
    "\n",
    "from keras.applications.vgg19 import VGG19\n",
    "\n",
    "from keras.models import Model\n",
    "import time\n",
    "from tensorflow.keras import layers, models\n"
   ]
  },
  {
   "cell_type": "markdown",
   "id": "6df2438d",
   "metadata": {},
   "source": [
    "Loading all the raw image speckle pattern files from local hard disk of PC."
   ]
  },
  {
   "cell_type": "code",
   "execution_count": 9,
   "id": "f8929036",
   "metadata": {},
   "outputs": [],
   "source": [
    "\n",
    "''''file_list1 = sorted(glob.glob('Without hysteresis/Using Actuator/new3/trial1/*.tif'),key=lambda x:float(re.findall(\"(\\d+)\",x)[2]))\n",
    "file_list2 = sorted(glob.glob('Without hysteresis/Using Actuator/new3/trial2/*.tif'),key=lambda x:float(re.findall(\"(\\d+)\",x)[2]))\n",
    "file_list3 = sorted(glob.glob('Without hysteresis/Using Actuator/new3/trial3/*.tif'),key=lambda x:float(re.findall(\"(\\d+)\",x)[2]))\n",
    "file_list4 = sorted(glob.glob('Without hysteresis/Using Actuator/new3/trial4/*.tif'),key=lambda x:float(re.findall(\"(\\d+)\",x)[2]))\n",
    "file_list5 = sorted(glob.glob('Without hysteresis/Using Actuator/new3/trial5/*.tif'),key=lambda x:float(re.findall(\"(\\d+)\",x)[2]))\n",
    "file_list6 = sorted(glob.glob('Without hysteresis/Using Actuator/new3/trial6/*.tif'),key=lambda x:float(re.findall(\"(\\d+)\",x)[2]))\n",
    "file_list7 = sorted(glob.glob('Without hysteresis/Using Actuator/new3/trial7/*.tif'),key=lambda x:float(re.findall(\"(\\d+)\",x)[2]))\n",
    "file_list8 = sorted(glob.glob('Without hysteresis/Using Actuator/new3/trial8/*.tif'),key=lambda x:float(re.findall(\"(\\d+)\",x)[2]))\n",
    "file_list9 = sorted(glob.glob('Without hysteresis/Using Actuator/new3/trial9/*.tif'),key=lambda x:float(re.findall(\"(\\d+)\",x)[2]))\n",
    "file_list10 = sorted(glob.glob('Without hysteresis/Using Actuator/new3/trial10/*.tif'),key=lambda x:float(re.findall(\"(\\d+)\",x)[2]))#''''''\n",
    "\n"
   ]
  },
  {
   "cell_type": "markdown",
   "id": "77ad3044",
   "metadata": {},
   "source": [
    "Using list comprehension to read multiple image files."
   ]
  },
  {
   "cell_type": "code",
   "execution_count": 10,
   "id": "a4dd5fd4",
   "metadata": {},
   "outputs": [],
   "source": [
    "#imag1 = [cv2.imread(file1,1) for file1 in file_list1]\n",
    "imag2 = [cv2.imread(file2,1) for file2 in file_list2]\n",
    "imag3 = [cv2.imread(file3,1) for file3 in file_list3]\n",
    "imag4 = [cv2.imread(file4,1) for file4 in file_list4]\n",
    "imag5 = [cv2.imread(file5,1) for file5 in file_list5]\n",
    "imag6 = [cv2.imread(file6,1) for file6 in file_list6]\n",
    "imag7 = [cv2.imread(file7,1) for file7 in file_list7]\n",
    "imag8 = [cv2.imread(file8,1) for file8 in file_list8]\n",
    "imag9 = [cv2.imread(file9,1) for file9 in file_list9]\n",
    "imag10 = [cv2.imread(file10,1) for file10 in file_list10]#'''\n",
    "\n",
    "\n",
    "    \n"
   ]
  },
  {
   "cell_type": "markdown",
   "id": "ee3907b1",
   "metadata": {},
   "source": [
    "Converting list to Array of images for easy image manipulations."
   ]
  },
  {
   "cell_type": "code",
   "execution_count": 11,
   "id": "e74c06a3",
   "metadata": {},
   "outputs": [],
   "source": [
    "''''images_arr1 = np.array(imag1)\n",
    "#images_arr1.shape\n",
    "images_arr2 = np.array(imag2)\n",
    "images_arr3 = np.array(imag3)\n",
    "images_arr4 = np.array(imag4)\n",
    "images_arr5 = np.array(imag5)\n",
    "images_arr6 = np.array(imag6)\n",
    "images_arr7 = np.array(imag7)\n",
    "images_arr8 = np.array(imag8)\n",
    "images_arr9 = np.array(imag9)\n",
    "images_arr10 = np.array(imag10)\n",
    "\n",
    "images_arr = np.vstack((images_arr1,images_arr2,images_arr3,images_arr4,images_arr5,images_arr6,images_arr7,images_arr8,images_arr9,images_arr10))#'''\n"
   ]
  },
  {
   "cell_type": "code",
   "execution_count": 15,
   "id": "5cb25258",
   "metadata": {},
   "outputs": [],
   "source": [
    "''''N1 = images_arr.shape[0]\n",
    "W1 = images_arr.shape[2]\n",
    "H1 = images_arr.shape[1]\n",
    "\n",
    "I1 = images_arr#\n",
    "\n"
   ]
  },
  {
   "cell_type": "markdown",
   "id": "261531a3",
   "metadata": {},
   "source": [
    "15 arbitrary regions of Interest (ROIs) using \"array slicing\" method:-"
   ]
  },
  {
   "cell_type": "code",
   "execution_count": 17,
   "id": "2a8a16d9",
   "metadata": {},
   "outputs": [],
   "source": [
    "''''Ibc1 = I1[0:7,0:100,0:100] \n",
    "Ibc2 = I1[0:7,10:110,10:110] \n",
    "Ibc3 = I1[0:7,20:120,20:120]\n",
    "Ibc4 = I1[0:7,0:100,10:110] \n",
    "Ibc5 = I1[0:7,0:100,20:120] \n",
    "Ibc6 = I1[0:7,200:300,200:300] \n",
    "Ibc7 = I1[0:7,50:150,0:100] \n",
    "Ibc8 = I1[0:7,50:150,10:110] \n",
    "Ibc9 = I1[0:7,200:300,120:220] \n",
    "Ibc10 = I1[0:7,150:250,150:250] \n",
    "Ibc11 = I1[0:7,160:260,160:260] \n",
    "Ibc12 = I1[0:7,160:260,0:100] \n",
    "Ibc13 = I1[0:7,150:250,40:140] \n",
    "Ibc14 = I1[0:7,100:200,0:100] \n",
    "Ibc15 = I1[0:7,100:200,30:130] \n",
    "\n",
    "Ibc16 = I1[7:14,0:100,0:100] \n",
    "Ibc17 = I1[7:14,10:110,10:110] \n",
    "Ibc18 = I1[7:14,20:120,20:120]\n",
    "Ibc19 = I1[7:14,0:100,10:110] \n",
    "Ibc20 = I1[7:14,0:100,20:120] \n",
    "Ibc21 = I1[7:14,200:300,200:300] \n",
    "Ibc22 = I1[7:14,50:150,0:100] \n",
    "Ibc23 = I1[7:14,50:150,10:110] \n",
    "Ibc24 = I1[7:14,200:300,120:220] \n",
    "Ibc25 = I1[7:14,150:250,150:250] \n",
    "Ibc26 = I1[7:14,160:260,160:260] \n",
    "Ibc27 = I1[7:14,160:260,0:100] \n",
    "Ibc28 = I1[7:14,150:250,40:140] \n",
    "Ibc29 = I1[7:14,100:200,0:100] \n",
    "Ibc30 = I1[7:14,100:200,30:130] \n",
    "\n",
    "Ibc31 = I1[14:21,0:100,0:100] \n",
    "Ibc32 = I1[14:21,10:110,10:110] \n",
    "Ibc33 = I1[14:21,20:120,20:120]\n",
    "Ibc34 = I1[14:21,0:100,10:110] \n",
    "Ibc35 = I1[14:21,0:100,20:120] \n",
    "Ibc36 = I1[14:21,200:300,200:300] \n",
    "Ibc37 = I1[14:21,50:150,0:100] \n",
    "Ibc38 = I1[14:21,50:150,10:110] \n",
    "Ibc39 = I1[14:21,200:300,120:220] \n",
    "Ibc40 = I1[14:21,150:250,150:250] \n",
    "Ibc41 = I1[14:21,160:260,160:260] \n",
    "Ibc42 = I1[14:21,160:260,0:100] \n",
    "Ibc43 = I1[14:21,150:250,40:140] \n",
    "Ibc44 = I1[14:21,100:200,0:100] \n",
    "Ibc45 = I1[14:21,100:200,30:130] \n",
    "\n",
    "Ibc46 = I1[21:28,0:100,0:100] \n",
    "Ibc47 = I1[21:28,10:110,10:110] \n",
    "Ibc48 = I1[21:28,20:120,20:120]\n",
    "Ibc49 = I1[21:28,0:100,10:110] \n",
    "Ibc50 = I1[21:28,0:100,20:120] \n",
    "Ibc51 = I1[21:28,200:300,200:300] \n",
    "Ibc52 = I1[21:28,50:150,0:100] \n",
    "Ibc53 = I1[21:28,50:150,10:110] \n",
    "Ibc54 = I1[21:28,200:300,120:220] \n",
    "Ibc55 = I1[21:28,150:250,150:250] \n",
    "Ibc56 = I1[21:28,160:260,160:260] \n",
    "Ibc57 = I1[21:28,160:260,0:100] \n",
    "Ibc58 = I1[21:28,150:250,40:140] \n",
    "Ibc59 = I1[21:28,100:200,0:100] \n",
    "Ibc60 = I1[21:28,100:200,30:130]\n",
    "\n",
    "Ibc61 = I1[28:35,0:100,0:100] \n",
    "Ibc62 = I1[28:35,10:110,10:110] \n",
    "Ibc63 = I1[28:35,20:120,20:120]\n",
    "Ibc64 = I1[28:35,0:100,10:110] \n",
    "Ibc65 = I1[28:35,0:100,20:120] \n",
    "Ibc66 = I1[28:35,200:300,200:300] \n",
    "Ibc67 = I1[28:35,50:150,0:100] \n",
    "Ibc68 = I1[28:35,50:150,10:110] \n",
    "Ibc69 = I1[28:35,200:300,120:220] \n",
    "Ibc70 = I1[28:35,150:250,150:250] \n",
    "Ibc71 = I1[28:35,160:260,160:260] \n",
    "Ibc72 = I1[28:35,160:260,0:100] \n",
    "Ibc73 = I1[28:35,150:250,40:140] \n",
    "Ibc74 = I1[28:35,100:200,0:100] \n",
    "Ibc75 = I1[28:35,100:200,30:130]\n",
    "\n",
    "Ibc76 = I1[35:42,0:100,0:100] \n",
    "Ibc77 = I1[35:42,10:110,10:110] \n",
    "Ibc78 = I1[35:42,20:120,20:120]\n",
    "Ibc79 = I1[35:42,0:100,10:110] \n",
    "Ibc80 = I1[35:42,0:100,20:120] \n",
    "Ibc81 = I1[35:42,200:300,200:300] \n",
    "Ibc82 = I1[35:42,50:150,0:100] \n",
    "Ibc83 = I1[35:42,50:150,10:110] \n",
    "Ibc84 = I1[35:42,200:300,120:220] \n",
    "Ibc85 = I1[35:42,150:250,150:250] \n",
    "Ibc86 = I1[35:42,160:260,160:260] \n",
    "Ibc87 = I1[35:42,160:260,0:100] \n",
    "Ibc88 = I1[35:42,150:250,40:140] \n",
    "Ibc89 = I1[35:42,100:200,0:100] \n",
    "Ibc90 = I1[35:42,100:200,30:130]\n",
    "\n",
    "Ibc91 = I1[42:49,0:100,0:100] \n",
    "Ibc92 = I1[42:49,10:110,10:110] \n",
    "Ibc93 = I1[42:49,20:120,20:120]\n",
    "Ibc94 = I1[42:49,0:100,10:110] \n",
    "Ibc95 = I1[42:49,0:100,20:120] \n",
    "Ibc96 = I1[42:49,200:300,200:300] \n",
    "Ibc97 = I1[42:49,50:150,0:100] \n",
    "Ibc98 = I1[42:49,50:150,10:110] \n",
    "Ibc99 = I1[42:49,200:300,120:220] \n",
    "Ibc100 = I1[42:49,150:250,150:250] \n",
    "Ibc101 = I1[42:49,160:260,160:260] \n",
    "Ibc102 = I1[42:49,160:260,0:100] \n",
    "Ibc103 = I1[42:49,150:250,40:140] \n",
    "Ibc104 = I1[42:49,100:200,0:100] \n",
    "Ibc105 = I1[42:49,100:200,30:130]\n",
    "\n",
    "Ibc106 = I1[49:56,0:100,0:100] \n",
    "Ibc107= I1[49:56,10:110,10:110] \n",
    "Ibc108 = I1[49:56,20:120,20:120]\n",
    "Ibc109 = I1[49:56,0:100,10:110] \n",
    "Ibc110 = I1[49:56,0:100,20:120] \n",
    "Ibc111 = I1[49:56,200:300,200:300] \n",
    "Ibc112 = I1[49:56,50:150,0:100] \n",
    "Ibc113 = I1[49:56,50:150,10:110] \n",
    "Ibc114 = I1[49:56,200:300,120:220] \n",
    "Ibc115 =I1[49:56,150:250,150:250] \n",
    "Ibc116 =I1[49:56,160:260,160:260] \n",
    "Ibc117 =I1[49:56,160:260,0:100] \n",
    "Ibc118 =I1[49:56,150:250,40:140] \n",
    "Ibc119 =I1[49:56,100:200,0:100] \n",
    "Ibc120 =I1[49:56,100:200,30:130]\n",
    "\n",
    "Ibc121 = I1[56:63,0:100,0:100] \n",
    "Ibc122 = I1[56:63,10:110,10:110] \n",
    "Ibc123 = I1[56:63,20:120,20:120]\n",
    "Ibc124 = I1[56:63,0:100,10:110] \n",
    "Ibc125 = I1[56:63,0:100,20:120] \n",
    "Ibc126 = I1[56:63,200:300,200:300] \n",
    "Ibc127 = I1[56:63,50:150,0:100] \n",
    "Ibc128 = I1[56:63,50:150,10:110] \n",
    "Ibc129 = I1[56:63,200:300,120:220] \n",
    "Ibc130 = I1[56:63,150:250,150:250] \n",
    "Ibc131 = I1[56:63,160:260,160:260] \n",
    "Ibc132 = I1[56:63,160:260,0:100] \n",
    "Ibc133 = I1[56:63,150:250,40:140] \n",
    "Ibc134 = I1[56:63,100:200,0:100] \n",
    "Ibc135 = I1[56:63,100:200,30:130]\n",
    "\n",
    "Ibc136 = I1[63:70,0:100,0:100] \n",
    "Ibc137 = I1[63:70,10:110,10:110] \n",
    "Ibc138 = I1[63:70,20:120,20:120]\n",
    "Ibc139 = I1[63:70,0:100,10:110] \n",
    "Ibc140 = I1[63:70,0:100,20:120] \n",
    "Ibc141 = I1[63:70,200:300,200:300] \n",
    "Ibc142 = I1[63:70,50:150,0:100] \n",
    "Ibc143 = I1[63:70,50:150,10:110] \n",
    "Ibc144 = I1[63:70,200:300,120:220] \n",
    "Ibc145 = I1[63:70,150:250,150:250] \n",
    "Ibc146 = I1[63:70,160:260,160:260] \n",
    "Ibc147 = I1[63:70,160:260,0:100] \n",
    "Ibc148 = I1[63:70,150:250,40:140] \n",
    "Ibc149 = I1[63:70,100:200,0:100] \n",
    "Ibc150 = I1[63:70,100:200,30:130]\n",
    "\n",
    "Ibc = np.vstack((Ibc1,Ibc2,Ibc3,Ibc4,Ibc5,Ibc6,Ibc7,Ibc8,Ibc9,Ibc10,Ibc11,Ibc12,Ibc13,Ibc14,Ibc15,Ibc16,Ibc17,Ibc18,Ibc19,Ibc20,Ibc21,Ibc22,Ibc23,Ibc24,Ibc25,Ibc26,Ibc27,Ibc28,Ibc29,Ibc30,Ibc31,Ibc32,Ibc33,Ibc34,Ibc35,Ibc36,Ibc37,Ibc38,Ibc39,Ibc40,Ibc41,Ibc42,Ibc43,Ibc44,Ibc45,Ibc46,Ibc47,Ibc48,Ibc49,Ibc50,Ibc51,Ibc52,Ibc53,Ibc54,Ibc55,Ibc56,Ibc57,Ibc58,Ibc59,Ibc60,Ibc61,Ibc62,Ibc63,Ibc64,Ibc65,Ibc66,Ibc67,Ibc68,Ibc69,Ibc70,Ibc71,Ibc72,Ibc73,Ibc74,Ibc75,Ibc76,Ibc77,Ibc78,Ibc79,Ibc80,Ibc81,Ibc82,Ibc83,Ibc84,Ibc85,Ibc86,Ibc87,Ibc88,Ibc89,Ibc90,Ibc91,Ibc92,Ibc93,Ibc94,Ibc95,Ibc96,Ibc97,Ibc98,Ibc99,Ibc100,Ibc101,Ibc102,Ibc103,Ibc104,Ibc105,Ibc106,Ibc107,Ibc108,Ibc109,Ibc110,Ibc111,Ibc112,Ibc113,Ibc114,Ibc115,Ibc116,Ibc117,Ibc118,Ibc119,Ibc120,Ibc121,Ibc122,Ibc123,Ibc124,Ibc125,Ibc126,Ibc127,Ibc128,Ibc129,Ibc130,Ibc131,Ibc132,Ibc133,Ibc134,Ibc135,Ibc136,Ibc137,Ibc138,Ibc139,Ibc140,Ibc141,Ibc142,Ibc143,Ibc144,Ibc145,Ibc146,Ibc147,Ibc148,Ibc149,Ibc150))#'''\n",
    "#Ibc.shape\n"
   ]
  },
  {
   "cell_type": "markdown",
   "id": "186a28ce",
   "metadata": {},
   "source": [
    "Writing images to different \"weights\" folder for classification approach."
   ]
  },
  {
   "cell_type": "code",
   "execution_count": 20,
   "id": "377b611a",
   "metadata": {},
   "outputs": [
    {
     "data": {
      "text/plain": [
       "'\\'k1 = 0 \\nfor i in range(0,Ibc.shape[0],7):\\n    cv2.imwrite(\\'Journal Paper FSS ANN1/Actuator/Data for CNN/0 g\\'+\"\\\\img_\"+str(k1)+\".png\",Ibc[i])\\n    k1+=1\\nk2 = 0 \\nfor i in range(1,Ibc.shape[0],7):\\n    cv2.imwrite(\\'Journal Paper FSS ANN1/Actuator/Data for CNN/500 g\\'+\"\\\\img_\"+str(k2)+\".png\",Ibc[i])\\n    k2+=1  \\nk3 = 0 \\nfor i in range(2,Ibc.shape[0],7):\\n    cv2.imwrite(\\'Journal Paper FSS ANN1/Actuator/Data for CNN/1000 g\\'+\"\\\\img_\"+str(k3)+\".png\",Ibc[i])\\n    k3+=1\\nk4 = 0 \\nfor i in range(3,Ibc.shape[0],7):\\n    cv2.imwrite(\\'Journal Paper FSS ANN1/Actuator/Data for CNN/1500 g\\'+\"\\\\img_\"+str(k4)+\".png\",Ibc[i])\\n    k4+=1\\nk5 = 0 \\nfor i in range(4,Ibc.shape[0],7):\\n    cv2.imwrite(\\'Journal Paper FSS ANN1/Actuator/Data for CNN/2000 g\\'+\"\\\\img_\"+str(k5)+\".png\",Ibc[i])\\n    k5+=1\\nk6 = 0 \\nfor i in range(5,Ibc.shape[0],7):\\n    cv2.imwrite(\\'Journal Paper FSS ANN1/Actuator/Data for CNN/2500 g\\'+\"\\\\img_\"+str(k6)+\".png\",Ibc[i])\\n    k6+=1\\nk7 = 0 \\nfor i in range(6,Ibc.shape[0],7):\\n    cv2.imwrite(\\'Journal Paper FSS ANN1/Actuator/Data for CNN/3000 g\\'+\"\\\\img_\"+str(k7)+\".png\",Ibc[i])\\n    k7+=1#'"
      ]
     },
     "execution_count": 20,
     "metadata": {},
     "output_type": "execute_result"
    }
   ],
   "source": [
    "''''k1 = 0 \n",
    "for i in range(0,Ibc.shape[0],7):\n",
    "    cv2.imwrite('Journal Paper FSS ANN1/Actuator/Data for CNN/0 g'+\"\\img_\"+str(k1)+\".png\",Ibc[i])\n",
    "    k1+=1\n",
    "k2 = 0 \n",
    "for i in range(1,Ibc.shape[0],7):\n",
    "    cv2.imwrite('Journal Paper FSS ANN1/Actuator/Data for CNN/500 g'+\"\\img_\"+str(k2)+\".png\",Ibc[i])\n",
    "    k2+=1  \n",
    "k3 = 0 \n",
    "for i in range(2,Ibc.shape[0],7):\n",
    "    cv2.imwrite('Journal Paper FSS ANN1/Actuator/Data for CNN/1000 g'+\"\\img_\"+str(k3)+\".png\",Ibc[i])\n",
    "    k3+=1\n",
    "k4 = 0 \n",
    "for i in range(3,Ibc.shape[0],7):\n",
    "    cv2.imwrite('Journal Paper FSS ANN1/Actuator/Data for CNN/1500 g'+\"\\img_\"+str(k4)+\".png\",Ibc[i])\n",
    "    k4+=1\n",
    "k5 = 0 \n",
    "for i in range(4,Ibc.shape[0],7):\n",
    "    cv2.imwrite('Journal Paper FSS ANN1/Actuator/Data for CNN/2000 g'+\"\\img_\"+str(k5)+\".png\",Ibc[i])\n",
    "    k5+=1\n",
    "k6 = 0 \n",
    "for i in range(5,Ibc.shape[0],7):\n",
    "    cv2.imwrite('Journal Paper FSS ANN1/Actuator/Data for CNN/2500 g'+\"\\img_\"+str(k6)+\".png\",Ibc[i])\n",
    "    k6+=1\n",
    "k7 = 0 \n",
    "for i in range(6,Ibc.shape[0],7):\n",
    "    cv2.imwrite('Journal Paper FSS ANN1/Actuator/Data for CNN/3000 g'+\"\\img_\"+str(k7)+\".png\",Ibc[i])\n",
    "    k7+=1#'''"
   ]
  },
  {
   "cell_type": "markdown",
   "id": "4ff15232",
   "metadata": {},
   "source": [
    "Loading files from local hard disk of PC."
   ]
  },
  {
   "cell_type": "code",
   "execution_count": null,
   "id": "655eaaee",
   "metadata": {},
   "outputs": [],
   "source": [
    "''''fil0 = sorted(glob.glob('Journal Paper FSS ANN1/Actuator/Data for CNN/0 g/*.png'),key=lambda x:float(re.findall(\"(\\d+)\",x)[2])) \n",
    "fil1 = sorted(glob.glob('Journal Paper FSS ANN1/Actuator/Data for CNN/500 g/*.png'),key=lambda x:float(re.findall(\"(\\d+)\",x)[2]))\n",
    "fil2 = sorted(glob.glob('Journal Paper FSS ANN1/Actuator/Data for CNN/1000 g/*.png'),key=lambda x:float(re.findall(\"(\\d+)\",x)[2]))\n",
    "fil3 = sorted(glob.glob('Journal Paper FSS ANN1/Actuator/Data for CNN/1500 g/*.png'),key=lambda x:float(re.findall(\"(\\d+)\",x)[2]))\n",
    "fil4 = sorted(glob.glob('Journal Paper FSS ANN1/Actuator/Data for CNN/2000 g/*.png'),key=lambda x:float(re.findall(\"(\\d+)\",x)[2]))\n",
    "fil5 = sorted(glob.glob('Journal Paper FSS ANN1/Actuator/Data for CNN/2500 g/*.png'),key=lambda x:float(re.findall(\"(\\d+)\",x)[2]))\n",
    "fil6 = sorted(glob.glob('Journal Paper FSS ANN1/Actuator/Data for CNN/3000 g/*.png'),key=lambda x:float(re.findall(\"(\\d+)\",x)[2]))#'''\n"
   ]
  },
  {
   "cell_type": "markdown",
   "id": "54bfcbed",
   "metadata": {},
   "source": [
    "List comprehensions converted to arrays simultaneously:-"
   ]
  },
  {
   "cell_type": "code",
   "execution_count": 21,
   "id": "05264fb8",
   "metadata": {},
   "outputs": [
    {
     "data": {
      "text/plain": [
       "\"'I0 = np.array([cv2.imread(file1,1) for file1 in fil0])\\nI1 = np.array([cv2.imread(file2,1) for file2 in fil1])\\nI2 = np.array([cv2.imread(file3,1) for file3 in fil2])\\nI3 = np.array([cv2.imread(file4,1) for file4 in fil3])\\nI4 = np.array([cv2.imread(file5,1) for file5 in fil4])\\nI5 = np.array([cv2.imread(file6,1) for file6 in fil5])\\nI6 = np.array([cv2.imread(file7,1) for file7 in fil6])#\""
      ]
     },
     "execution_count": 21,
     "metadata": {},
     "output_type": "execute_result"
    }
   ],
   "source": [
    "''''I0 = np.array([cv2.imread(file1,1) for file1 in fil0])\n",
    "I1 = np.array([cv2.imread(file2,1) for file2 in fil1])\n",
    "I2 = np.array([cv2.imread(file3,1) for file3 in fil2])\n",
    "I3 = np.array([cv2.imread(file4,1) for file4 in fil3])\n",
    "I4 = np.array([cv2.imread(file5,1) for file5 in fil4])\n",
    "I5 = np.array([cv2.imread(file6,1) for file6 in fil5])\n",
    "I6 = np.array([cv2.imread(file7,1) for file7 in fil6])#'''"
   ]
  },
  {
   "cell_type": "markdown",
   "id": "bc931003",
   "metadata": {},
   "source": [
    "Using ImageDatagenerator() to implement \"Data Augmentation\". Here, rotations,width shifting, height shifting, rescaling,shearing,zooming,horizontal flip,vertical flip transformations were introduced. "
   ]
  },
  {
   "cell_type": "code",
   "execution_count": 22,
   "id": "cd4afd78",
   "metadata": {},
   "outputs": [
    {
     "data": {
      "text/plain": [
       "\"'datagen = ImageDataGenerator(\\n        rotation_range=40,\\n        width_shift_range=0.2,\\n        height_shift_range=0.2,\\n        #rescale=1./255,\\n        shear_range=0.2,\\n        #zoom_range=0.2,\\n        horizontal_flip=True,\\n        vertical_flip=True,\\n        fill_mode='reflect')#\""
      ]
     },
     "execution_count": 22,
     "metadata": {},
     "output_type": "execute_result"
    }
   ],
   "source": [
    "''''datagen = ImageDataGenerator(\n",
    "        rotation_range=40,\n",
    "        width_shift_range=0.2,\n",
    "        height_shift_range=0.2,\n",
    "        #rescale=1./255,\n",
    "        shear_range=0.2,\n",
    "        #zoom_range=0.2,\n",
    "        horizontal_flip=True,\n",
    "        vertical_flip=True,\n",
    "        fill_mode='reflect')#'''"
   ]
  },
  {
   "cell_type": "markdown",
   "id": "91d16e0f",
   "metadata": {},
   "source": [
    "Executing data augmentation for images in each \"weights\" folder and saving images in respective locations:-"
   ]
  },
  {
   "cell_type": "code",
   "execution_count": 23,
   "id": "10ba53b8",
   "metadata": {},
   "outputs": [
    {
     "data": {
      "text/plain": [
       "\"'I6 = I6.reshape((1,) + I6.shape)\\nfor k in range(I6.shape[1]):\\n    \\n    g = 0\\n    for batch in datagen.flow(I6[:,k], batch_size=1,\\n                          save_to_dir='Journal Paper FSS ANN1/Actuator/Data for CNN/Aug1/3000 g', save_prefix='img', save_format='png'):\\n        g += 1\\n        if g > 10:\\n            break#\""
      ]
     },
     "execution_count": 23,
     "metadata": {},
     "output_type": "execute_result"
    }
   ],
   "source": [
    "''''I0 = I0.reshape((1,) + I0.shape)\n",
    "for k in range(I0.shape[1]):\n",
    "    \n",
    "    a = 0\n",
    "    for batch in datagen.flow(I0[:,k], batch_size=1,\n",
    "                          save_to_dir='Journal Paper FSS ANN1/Actuator/Data for CNN/Aug1/0 g', save_prefix='img', save_format='png'):\n",
    "        a += 1\n",
    "        if a > 10:\n",
    "            break#'''\n",
    "''''I1 = I1.reshape((1,) + I1.shape)\n",
    "for k in range(I1.shape[1]):\n",
    "    \n",
    "    b = 0\n",
    "    for batch in datagen.flow(I1[:,k], batch_size=1,\n",
    "                          save_to_dir='Journal Paper FSS ANN1/Actuator/Data for CNN/Aug1/500 g', save_prefix='img', save_format='png'):\n",
    "        b += 1\n",
    "        if b > 10:\n",
    "            break#'''\n",
    "''''I2 = I2.reshape((1,) + I2.shape)\n",
    "for k in range(I2.shape[1]):\n",
    "    \n",
    "    c = 0\n",
    "    for batch in datagen.flow(I2[:,k], batch_size=1,\n",
    "                          save_to_dir='Journal Paper FSS ANN1/Actuator/Data for CNN/Aug1/1000 g', save_prefix='img', save_format='png'):\n",
    "        c += 1\n",
    "        if c > 10:\n",
    "            break#'''\n",
    "''''I3 = I3.reshape((1,) + I3.shape)\n",
    "for k in range(I3.shape[1]):\n",
    "    \n",
    "    d = 0\n",
    "    for batch in datagen.flow(I3[:,k], batch_size=1,\n",
    "                          save_to_dir='Journal Paper FSS ANN1/Actuator/Data for CNN/Aug1/1500 g', save_prefix='img', save_format='png'):\n",
    "        d += 1\n",
    "        if d > 10:\n",
    "            break#'''\n",
    "''''I4 = I4.reshape((1,) + I4.shape)\n",
    "for k in range(I4.shape[1]):\n",
    "    \n",
    "    e = 0\n",
    "    for batch in datagen.flow(I4[:,k], batch_size=1,\n",
    "                          save_to_dir='Journal Paper FSS ANN1/Actuator/Data for CNN/Aug1/2000 g', save_prefix='img', save_format='png'):\n",
    "        e += 1\n",
    "        if e > 10:\n",
    "            break#'''\n",
    "''''I5 = I5.reshape((1,) + I5.shape)\n",
    "for k in range(I5.shape[1]):\n",
    "    \n",
    "    f = 0\n",
    "    for batch in datagen.flow(I5[:,k], batch_size=1,\n",
    "                          save_to_dir='Journal Paper FSS ANN1/Actuator/Data for CNN/Aug1/2500 g', save_prefix='img', save_format='png'):\n",
    "        f += 1\n",
    "        if f > 10:\n",
    "            break#'''\n",
    "''''I6 = I6.reshape((1,) + I6.shape)\n",
    "for k in range(I6.shape[1]):\n",
    "    \n",
    "    g = 0\n",
    "    for batch in datagen.flow(I6[:,k], batch_size=1,\n",
    "                          save_to_dir='Journal Paper FSS ANN1/Actuator/Data for CNN/Aug1/3000 g', save_prefix='img', save_format='png'):\n",
    "        g += 1\n",
    "        if g > 10:\n",
    "            break#'''"
   ]
  },
  {
   "cell_type": "markdown",
   "id": "5897803a",
   "metadata": {},
   "source": [
    "Loading augmented images from saved Augmented images location:-"
   ]
  },
  {
   "cell_type": "code",
   "execution_count": 43,
   "id": "b3e7e7db",
   "metadata": {},
   "outputs": [],
   "source": [
    "''''fil0 = sorted(glob.glob('Journal Paper FSS ANN1/Actuator/Data for CNN/Aug1/0 g/*.png'),key=lambda x:float(re.findall(\"(\\d+)\",x)[3])) \n",
    "fil1 = sorted(glob.glob('Journal Paper FSS ANN1/Actuator/Data for CNN/Aug1/500 g/*.png'),key=lambda x:float(re.findall(\"(\\d+)\",x)[3]))\n",
    "fil2 = sorted(glob.glob('Journal Paper FSS ANN1/Actuator/Data for CNN/Aug1/1000 g/*.png'),key=lambda x:float(re.findall(\"(\\d+)\",x)[3]))\n",
    "fil3 = sorted(glob.glob('Journal Paper FSS ANN1/Actuator/Data for CNN/Aug1/1500 g/*.png'),key=lambda x:float(re.findall(\"(\\d+)\",x)[3]))\n",
    "fil4 = sorted(glob.glob('Journal Paper FSS ANN1/Actuator/Data for CNN/Aug1/2000 g/*.png'),key=lambda x:float(re.findall(\"(\\d+)\",x)[3]))\n",
    "fil5 = sorted(glob.glob('Journal Paper FSS ANN1/Actuator/Data for CNN/Aug1/2500 g/*.png'),key=lambda x:float(re.findall(\"(\\d+)\",x)[3]))\n",
    "fil6 = sorted(glob.glob('Journal Paper FSS ANN1/Actuator/Data for CNN/Aug1/3000 g/*.png'),key=lambda x:float(re.findall(\"(\\d+)\",x)[3]))#'''\n",
    "\n"
   ]
  },
  {
   "cell_type": "code",
   "execution_count": 44,
   "id": "d95a68d5",
   "metadata": {},
   "outputs": [],
   "source": [
    "''''I0 = np.array([cv2.imread(file1,1) for file1 in fil0])\n",
    "I1 = np.array([cv2.imread(file2,1) for file2 in fil1])\n",
    "I2 = np.array([cv2.imread(file3,1) for file3 in fil2])\n",
    "I3 = np.array([cv2.imread(file4,1) for file4 in fil3])\n",
    "I4 = np.array([cv2.imread(file5,1) for file5 in fil4])\n",
    "I5 = np.array([cv2.imread(file6,1) for file6 in fil5])\n",
    "I6 = np.array([cv2.imread(file7,1) for file7 in fil6])#'''"
   ]
  },
  {
   "cell_type": "markdown",
   "id": "85bdd52b",
   "metadata": {},
   "source": [
    "One hot encodings for multi class-classification approach. Here each class represent each weights. We have 7 weights from 0 kg to 3 kg with 0.5 kg steps. s0 to s6 represents 0 to 3 kg."
   ]
  },
  {
   "cell_type": "code",
   "execution_count": 45,
   "id": "2c530889",
   "metadata": {},
   "outputs": [],
   "source": [
    "''''s0 = np.repeat(np.array([1,0,0,0,0,0,0,]).reshape(1,-1), 1500,axis=0)\n",
    "s1 = np.repeat(np.array([0,1,0,0,0,0,0]).reshape(1,-1), 1500,axis=0)\n",
    "s2 = np.repeat(np.array([0,0,1,0,0,0,0]).reshape(1,-1), 1500,axis=0)\n",
    "s3 = np.repeat(np.array([0,0,0,1,0,0,0]).reshape(1,-1), 1500,axis=0)\n",
    "s4 = np.repeat(np.array([0,0,0,0,1,0,0]).reshape(1,-1), 1500,axis=0)\n",
    "s5 = np.repeat(np.array([0,0,0,0,0,1,0]).reshape(1,-1), 1500,axis=0)\n",
    "s6 = np.repeat(np.array([0,0,0,0,0,0,1]).reshape(1,-1), 1500,axis=0)#'''"
   ]
  },
  {
   "cell_type": "markdown",
   "id": "40528bcf",
   "metadata": {},
   "source": [
    "Converting BGR into RGB images:-"
   ]
  },
  {
   "cell_type": "code",
   "execution_count": 46,
   "id": "935fde2b",
   "metadata": {},
   "outputs": [],
   "source": [
    "''''for i in range(I0.shape[0]):\n",
    "    I0[i] = cv2.cvtColor(I0[i], cv2.COLOR_BGR2RGB)\n",
    "    I1[i] = cv2.cvtColor(I1[i], cv2.COLOR_BGR2RGB)\n",
    "    I2[i] = cv2.cvtColor(I2[i], cv2.COLOR_BGR2RGB)\n",
    "    I3[i] = cv2.cvtColor(I3[i], cv2.COLOR_BGR2RGB)\n",
    "    I4[i] = cv2.cvtColor(I4[i], cv2.COLOR_BGR2RGB)\n",
    "    I5[i] = cv2.cvtColor(I5[i], cv2.COLOR_BGR2RGB)\n",
    "    I6[i] = cv2.cvtColor(I6[i], cv2.COLOR_BGR2RGB)#'''\n",
    "    \n",
    "\n"
   ]
  },
  {
   "cell_type": "markdown",
   "id": "21a08176",
   "metadata": {},
   "source": [
    "Stacking vertically, input images (X) and output one hot encodings of classes (y):-"
   ]
  },
  {
   "cell_type": "code",
   "execution_count": 47,
   "id": "3373322b",
   "metadata": {},
   "outputs": [],
   "source": [
    "''''X = np.vstack((I0,I1,I2,I3,I4,I5,I6))\n",
    "\n",
    "y = np.vstack((s0,s1,s2,s3,s4,s5,s6))#'''\n",
    " "
   ]
  },
  {
   "cell_type": "markdown",
   "id": "4b07f2ee",
   "metadata": {},
   "source": [
    "Random shuffling data points for avoiding data-bias:-"
   ]
  },
  {
   "cell_type": "code",
   "execution_count": 48,
   "id": "10fb53e9",
   "metadata": {},
   "outputs": [],
   "source": [
    "#X,y = shuffle(X,y)"
   ]
  },
  {
   "cell_type": "markdown",
   "id": "a62e171c",
   "metadata": {},
   "source": [
    "Size of each images are 100 x 100 x 3. Here img_size represents height and width of images."
   ]
  },
  {
   "cell_type": "code",
   "execution_count": 49,
   "id": "5ebd1620",
   "metadata": {},
   "outputs": [],
   "source": [
    "#img_size = 100"
   ]
  },
  {
   "cell_type": "markdown",
   "id": "52dcd337",
   "metadata": {},
   "source": [
    "Splitting datasets into Train, Validation and Test as 80%, 10% and 10% respectively:-"
   ]
  },
  {
   "cell_type": "code",
   "execution_count": 50,
   "id": "19ead50c",
   "metadata": {},
   "outputs": [],
   "source": [
    "#X_train, X_test, y_train, y_test = train_test_split(X, y, test_size = 0.1)\n"
   ]
  },
  {
   "cell_type": "code",
   "execution_count": 51,
   "id": "380d4fbe",
   "metadata": {},
   "outputs": [],
   "source": [
    "#X_train, X_validation, y_train, y_validation = train_test_split(X_train, y_train, test_size=0.1111) "
   ]
  },
  {
   "cell_type": "code",
   "execution_count": 52,
   "id": "7ce3e7b6",
   "metadata": {},
   "outputs": [
    {
     "name": "stdout",
     "output_type": "stream",
     "text": [
      "no. of training points:  8400\n",
      "no. of validation points:  1050\n",
      "no. of test points:  1050\n",
      "y_train:\n",
      " [[0 1 0 ... 0 0 0]\n",
      " [0 0 0 ... 0 0 1]\n",
      " [0 0 0 ... 0 0 1]\n",
      " ...\n",
      " [0 0 0 ... 0 0 0]\n",
      " [0 0 0 ... 0 1 0]\n",
      " [0 0 0 ... 0 0 1]]\n",
      "y_validation:\n",
      " [[0 0 0 ... 0 0 1]\n",
      " [1 0 0 ... 0 0 0]\n",
      " [0 0 0 ... 0 0 0]\n",
      " ...\n",
      " [0 1 0 ... 0 0 0]\n",
      " [0 0 0 ... 0 0 0]\n",
      " [0 0 0 ... 0 0 1]]\n",
      "y_test:\n",
      " [[1 0 0 ... 0 0 0]\n",
      " [0 0 0 ... 0 1 0]\n",
      " [0 1 0 ... 0 0 0]\n",
      " ...\n",
      " [0 0 1 ... 0 0 0]\n",
      " [0 1 0 ... 0 0 0]\n",
      " [0 1 0 ... 0 0 0]]\n"
     ]
    }
   ],
   "source": [
    "''''print('no. of training points: ', len(X_train))\n",
    "print('no. of validation points: ', len(X_validation))\n",
    "print('no. of test points: ' , len(X_test))\n",
    "print('y_train:\\n', y_train)\n",
    "print('y_validation:\\n',y_validation)\n",
    "print('y_test:\\n',y_test)#'''"
   ]
  },
  {
   "cell_type": "markdown",
   "id": "8dd86e3e",
   "metadata": {},
   "source": [
    "## Calling pre-trained VGG-16 model for transfer learning:-"
   ]
  },
  {
   "cell_type": "code",
   "execution_count": 54,
   "id": "a95e6fc7",
   "metadata": {},
   "outputs": [
    {
     "name": "stdout",
     "output_type": "stream",
     "text": [
      "Model: \"vgg16\"\n",
      "_________________________________________________________________\n",
      "Layer (type)                 Output Shape              Param #   \n",
      "=================================================================\n",
      "input_2 (InputLayer)         (None, 100, 100, 3)       0         \n",
      "_________________________________________________________________\n",
      "block1_conv1 (Conv2D)        (None, 100, 100, 64)      1792      \n",
      "_________________________________________________________________\n",
      "block1_conv2 (Conv2D)        (None, 100, 100, 64)      36928     \n",
      "_________________________________________________________________\n",
      "block1_pool (MaxPooling2D)   (None, 50, 50, 64)        0         \n",
      "_________________________________________________________________\n",
      "block2_conv1 (Conv2D)        (None, 50, 50, 128)       73856     \n",
      "_________________________________________________________________\n",
      "block2_conv2 (Conv2D)        (None, 50, 50, 128)       147584    \n",
      "_________________________________________________________________\n",
      "block2_pool (MaxPooling2D)   (None, 25, 25, 128)       0         \n",
      "_________________________________________________________________\n",
      "block3_conv1 (Conv2D)        (None, 25, 25, 256)       295168    \n",
      "_________________________________________________________________\n",
      "block3_conv2 (Conv2D)        (None, 25, 25, 256)       590080    \n",
      "_________________________________________________________________\n",
      "block3_conv3 (Conv2D)        (None, 25, 25, 256)       590080    \n",
      "_________________________________________________________________\n",
      "block3_pool (MaxPooling2D)   (None, 12, 12, 256)       0         \n",
      "_________________________________________________________________\n",
      "block4_conv1 (Conv2D)        (None, 12, 12, 512)       1180160   \n",
      "_________________________________________________________________\n",
      "block4_conv2 (Conv2D)        (None, 12, 12, 512)       2359808   \n",
      "_________________________________________________________________\n",
      "block4_conv3 (Conv2D)        (None, 12, 12, 512)       2359808   \n",
      "_________________________________________________________________\n",
      "block4_pool (MaxPooling2D)   (None, 6, 6, 512)         0         \n",
      "_________________________________________________________________\n",
      "block5_conv1 (Conv2D)        (None, 6, 6, 512)         2359808   \n",
      "_________________________________________________________________\n",
      "block5_conv2 (Conv2D)        (None, 6, 6, 512)         2359808   \n",
      "_________________________________________________________________\n",
      "block5_conv3 (Conv2D)        (None, 6, 6, 512)         2359808   \n",
      "_________________________________________________________________\n",
      "block5_pool (MaxPooling2D)   (None, 3, 3, 512)         0         \n",
      "=================================================================\n",
      "Total params: 14,714,688\n",
      "Trainable params: 14,714,688\n",
      "Non-trainable params: 0\n",
      "_________________________________________________________________\n"
     ]
    }
   ],
   "source": [
    "\n",
    "#vgg = VGG16(input_shape = (img_size,img_size,3), weights='imagenet',include_top=False)\n",
    "\n",
    "#vgg.summary()"
   ]
  },
  {
   "cell_type": "markdown",
   "id": "7181d544",
   "metadata": {},
   "source": [
    "This command ensures that pre-trained model is frozen in weights and biases. And using pre-trained for transfer learning:-"
   ]
  },
  {
   "cell_type": "code",
   "execution_count": 55,
   "id": "9e3270f3",
   "metadata": {},
   "outputs": [],
   "source": [
    "#vgg.trainable = False    "
   ]
  },
  {
   "cell_type": "markdown",
   "id": "55338d92",
   "metadata": {},
   "source": [
    "Adding dense layers at the end of the pre-trained model. Hidden layers with ReLU activation and output layer as Softmax:-"
   ]
  },
  {
   "cell_type": "code",
   "execution_count": 56,
   "id": "0a967c1d",
   "metadata": {},
   "outputs": [
    {
     "name": "stdout",
     "output_type": "stream",
     "text": [
      "Model: \"sequential_1\"\n",
      "_________________________________________________________________\n",
      "Layer (type)                 Output Shape              Param #   \n",
      "=================================================================\n",
      "vgg16 (Model)                (None, 3, 3, 512)         14714688  \n",
      "_________________________________________________________________\n",
      "flatten_1 (Flatten)          (None, 4608)              0         \n",
      "_________________________________________________________________\n",
      "dense_1 (Dense)              (None, 400)               1843600   \n",
      "_________________________________________________________________\n",
      "dense_2 (Dense)              (None, 400)               160400    \n",
      "_________________________________________________________________\n",
      "dense_3 (Dense)              (None, 400)               160400    \n",
      "_________________________________________________________________\n",
      "dense_4 (Dense)              (None, 400)               160400    \n",
      "_________________________________________________________________\n",
      "dense_5 (Dense)              (None, 7)                 2807      \n",
      "=================================================================\n",
      "Total params: 17,042,295\n",
      "Trainable params: 2,327,607\n",
      "Non-trainable params: 14,714,688\n",
      "_________________________________________________________________\n"
     ]
    }
   ],
   "source": [
    "\n",
    "\n",
    "''''flatten_layer = keras.layers.Flatten()\n",
    "dense_layer_1 = keras.layers.Dense(400, activation='relu')\n",
    "dense_layer_2 = keras.layers.Dense(400, activation='relu')\n",
    "dense_layer_3 = keras.layers.Dense(400, activation='relu')\n",
    "dense_layer_4 = keras.layers.Dense(400, activation='relu')\n",
    "prediction_layer = keras.layers.Dense(7, activation='softmax')\n",
    "\n",
    "\n",
    "model1 = keras.Sequential([\n",
    "    vgg,\n",
    "    flatten_layer,\n",
    "    dense_layer_1,\n",
    "    dense_layer_2,\n",
    "    dense_layer_3,\n",
    "    dense_layer_4,\n",
    "   prediction_layer\n",
    "])\n",
    "\n",
    "model1.summary()#'''"
   ]
  },
  {
   "cell_type": "markdown",
   "id": "59167237",
   "metadata": {},
   "source": [
    "Compiling and fitting the model. Loss is categorical cross entropy, Adam optimizer is optimizer used,Accuracy is being looked upon as the metrics for deciding how good the model is. Below code is for training data:-"
   ]
  },
  {
   "cell_type": "code",
   "execution_count": 19,
   "id": "79d92456",
   "metadata": {
    "scrolled": true
   },
   "outputs": [
    {
     "name": "stdout",
     "output_type": "stream",
     "text": [
      "Epoch 1/50\n",
      "8400/8400 [==============================] - 11s 1ms/step - loss: 1.8260 - accuracy: 0.2320\n",
      "Epoch 2/50\n",
      "8400/8400 [==============================] - 8s 916us/step - loss: 1.7252 - accuracy: 0.28041s - loss: 1.7234 -  - ETA: 0s - loss: 1.7200 - accuracy - ETA: 0s - loss:\n",
      "Epoch 3/50\n",
      "8400/8400 [==============================] - 8s 917us/step - loss: 1.6928 - accuracy: 0.29730s - loss: 1\n",
      "Epoch 4/50\n",
      "8400/8400 [==============================] - 8s 931us/step - loss: 1.6297 - accuracy: 0.32676s - loss: 1.6431 - accura - ETA: 4s - loss: 1.6 - ETA:  - ETA: 1s - loss: 1.6289  - ETA: 1s - loss: 1.6320 - ac - ETA: 0s - loss:\n",
      "Epoch 5/50\n",
      "8400/8400 [==============================] - 8s 937us/step - loss: 1.5778 - accuracy: 0.3577\n",
      "Epoch 6/50\n",
      "8400/8400 [==============================] - 8s 937us/step - loss: 1.5239 - accuracy: 0.39110s - loss:\n",
      "Epoch 7/50\n",
      "8400/8400 [==============================] - 8s 937us/step - loss: 1.4786 - accuracy: 0.40757s - loss: 1.517 - ETA: 6s - loss: 1.5177 -  - ETA - ETA: 4s - ETA: 3s - loss: 1.4906 - accuracy: 0.40 - ETA: 3s - - ETA: 2s - loss: 1.4812 - accuracy: 0.40 - ETA: 2s - loss: 1.4816 - accuracy - ETA: 2s - loss: 1.4859 - accuracy: 0.40 - ETA: 2s - - ETA: 1s - loss: 1.4825 - accura - ETA: 1s - loss: 1.4809 - ac - ETA: 0s - l\n",
      "Epoch 8/50\n",
      "8400/8400 [==============================] - 8s 934us/step - loss: 1.4179 - accuracy: 0.44636s - l - ETA: 5s - loss: 1.4149  - E\n",
      "Epoch 9/50\n",
      "8400/8400 [==============================] - 8s 934us/step - loss: 1.3604 - accuracy: 0.46420s - loss: 1.3637 - ac - ETA: 0s - loss: 1.3607 - accuracy: 0.\n",
      "Epoch 10/50\n",
      "8400/8400 [==============================] - 8s 934us/step - loss: 1.3274 - accuracy: 0.48465s - loss: 1 - ETA: 4s - los - ETA: 0s - loss: 1.3276 - accuracy: 0.48\n",
      "Epoch 11/50\n",
      "8400/8400 [==============================] - 8s 935us/step - loss: 1.2614 - accuracy: 0.51764s - loss: 1.2521 - accu - ETA: 3s - ETA: 2s - los - ETA: 1s - los - ETA: 1s\n",
      "Epoch 12/50\n",
      "8400/8400 [==============================] - 8s 936us/step - loss: 1.2275 - accuracy: 0.53384s - loss: 1.2427 - accu - ETA: 4s - ETA: 3s - loss: 1.2287 - accuracy: 0. - ETA: 3s - loss: 1 - ETA: 2s - loss: 1.2226 - ac - ETA: 2s - loss: 1.221 - ETA: 1s - loss: 1.2 - ETA: 0s - loss:\n",
      "Epoch 13/50\n",
      "8400/8400 [==============================] - 8s 941us/step - loss: 1.1656 - accuracy: 0.55572s - loss: 1.1653 - ac - ETA: 2s - loss: 1.1665 - accuracy: 0.55 - ETA: 2s - loss: 1.1 - ETA: 1s - loss: 1.1649 -  - E\n",
      "Epoch 14/50\n",
      "8400/8400 [==============================] - 8s 938us/step - loss: 1.1102 - accuracy: 0.58247s - loss: 1.1784 - ac - ETA: 7s - loss: 1.0604 - accu - ETA: 6s - loss: 1 - ETA: 6s - loss: 1.0512 - accuracy:  - ETA: 6s - loss: 1.053 - ETA: 5s - loss: 1.0866 -  - ETA: 5s - loss: 1.0865 - accu - ETA: 4s - l - ETA: 2s - loss: 1.1068 - accuracy:  - ETA: 2s - loss: 1.1105 - accura - ETA: 1s - ETA: 0s -\n",
      "Epoch 15/50\n",
      "8400/8400 [==============================] - 8s 936us/step - loss: 1.0980 - accuracy: 0.5833 ETA: 5s - - - ETA: 1s - loss: 1.0979 - ac - ETA: 0s - loss: 1.096\n",
      "Epoch 16/50\n",
      "8400/8400 [==============================] - 8s 938us/step - loss: 1.0449 - accuracy: 0.61042s - loss: 1.0410 - accu - ETA: 0s - loss: 1.0460 - accu\n",
      "Epoch 17/50\n",
      "8400/8400 [==============================] - 8s 948us/step - loss: 1.0097 - accuracy: 0.62217s - loss: 0.9721 - accuracy: 0.64 - ETA: 6s - los - E - ETA: 2s -\n",
      "Epoch 18/50\n",
      "8400/8400 [==============================] - 8s 954us/step - loss: 0.9571 - accuracy: 0.64297s - loss: 0.8 - ETA: 7s - loss: - ETA: 6s - loss: 0.9123 - accura - ETA: 6s - loss: 0.9346  - ETA: 5s - loss: - ETA: 0s - loss: 0.9\n",
      "Epoch 19/50\n",
      "8400/8400 [==============================] - 8s 952us/step - loss: 0.9356 - accuracy: 0.64956s - ETA: 5s - loss: 0.9135 - accuracy: 0. - ETA: 5s - loss: 0.906 - ETA: 4s - loss: 0.9039 - accura - ETA: 4s - loss: 0.8989 - accu - ETA: 4s - loss: 0.8994 - accuracy: 0.65 - E - ETA: 2s - loss: 0.9182 -  - ETA:  - ETA\n",
      "Epoch 20/50\n",
      "8400/8400 [==============================] - 8s 950us/step - loss: 0.8876 - accuracy: 0.67600s - loss: 0.8922 - accuracy: 0. - ETA: 0s - loss: 0.8904 - accu\n",
      "Epoch 21/50\n",
      "8400/8400 [==============================] - 8s 954us/step - loss: 0.8328 - accuracy: 0.69767s - loss: 0.7867 - accuracy: 0. - ETA: 7s - loss: 0.7662  - ETA: 6s - loss: 0.7817 - ac - ETA: 6s - loss: 0.7896 - accuracy - ETA: 6s - l - ETA: 5s - loss: 0.8223  - ETA: 4s - loss: 0.8303 - accuracy:  - ETA: 4s - loss: 0.8282 - ac - E - ETA: 1s - ETA: 0s - loss: 0.8338 - accuracy - ETA: 0s - loss: 0.8342 - accuracy: 0.69 - ETA: 0s - loss: 0.8337 - accuracy: 0.\n",
      "Epoch 22/50\n",
      "8400/8400 [==============================] - 8s 954us/step - loss: 0.7993 - accuracy: 0.70713s - loss: 0.794 - ETA: 1s - ETA: 0s - loss: 0.7930  - ETA: 0s - loss: 0.7975 - accuracy: 0.\n",
      "Epoch 23/50\n",
      "8400/8400 [==============================] - 8s 951us/step - loss: 0.8018 - accuracy: 0.70777s - loss: 0.7189 -  - ETA: 7s - loss: 0.7445 - accuracy: 0.73 - ETA: 7s - loss: 0.7 - ETA: 6s - loss: 0.7912 - accuracy: 0.72 - ETA: 6s - loss: 0.7855 - accuracy: 0. - ETA - ETA: 5s - loss: 0.8023 - accu - ETA: 4s - loss: 0 - ETA: 4s - loss: 0.7974  - ETA: 3s - - ETA: 2s - loss: 0.7 - ETA: 1s - loss: 0.7875 - ac - ETA: 1s - loss: 0.7926 - accuracy: 0. - ETA: 1s - loss: 0.7921 -  - ETA: 0s -\n",
      "Epoch 24/50\n",
      "8400/8400 [==============================] - 8s 955us/step - loss: 0.7805 - accuracy: 0.71755s - l - ETA: 4s - loss: 0.779 - ETA: 2s - loss: 0.7 - ETA: 1s - loss: 0.7798 - accura - ETA: 1s - loss: 0.7816 - accuracy:  - ETA: 1s - l - ETA: 0s - loss: 0.7822 - accuracy:  - ETA: 0s - loss: 0.7804 - accura\n",
      "Epoch 25/50\n",
      "8400/8400 [==============================] - 8s 953us/step - loss: 0.7435 - accuracy: 0.72087s - loss: 0.6200 - accu - ETA: 7s - loss: - ETA: 6s - loss: 0.6639 - ac - ETA: 4s - loss: 0.6904 -  - ETA: 4s - l - ETA: 3s - - ETA: 1s - loss: 0.7145 - accuracy - ETA: 0s - loss: 0.7284 - accuracy - ETA: 0s - loss: 0.7324 - accura - ETA: 0s - loss: 0.7332 - accuracy: 0.72 - ETA: 0s - loss: 0.7353 - accu\n",
      "Epoch 26/50\n",
      "8400/8400 [==============================] - 8s 956us/step - loss: 0.6934 - accuracy: 0.7417 ETA: 2s - loss: 0.7112 - accuracy:  - ETA: 2s - loss: 0.7068 - accu - ETA: 2s - loss: 0.7005 - accuracy: 0.73 - ETA: 2s - loss: 0.701 - ETA: 1s - loss: 0.6937 -  - ETA: 0s -\n",
      "Epoch 27/50\n",
      "8400/8400 [==============================] - 8s 956us/step - loss: 0.6969 - accuracy: 0.74887s - loss: 0.6634 - accuracy: 0.75 - ETA: 7s - loss: 0.6614  - ETA: 7s - loss: 0.7044  - ETA: 6s - loss: 0.7489 - accuracy: 0.73 - ETA: 6s - loss: 0 - ETA: 5s - loss: 0.7323 - accura - ETA: 5s - ETA: 4s - loss: 0.7192  - ETA: 4s - loss: 0.7058 - accuracy:  - ETA: 3s - loss: 0.6993 - accura - ETA: 3s - l -\n",
      "Epoch 28/50\n",
      "8400/8400 [==============================] - 8s 955us/step - loss: 0.6441 - accuracy: 0.76737s - loss: 0.6719 - accuracy - ETA: 4s - loss: 0 - ETA: 3s - loss: 0.6248 - accuracy: 0.77 - ETA: 3s - loss: - ETA: 2s - loss: 0.632 - ETA: 0s - loss: 0.6376 - accuracy: 0.76 - ETA: 0s - loss: 0.6\n",
      "Epoch 29/50\n",
      "8400/8400 [==============================] - 8s 956us/step - loss: 0.6411 - accuracy: 0.76433s - l - ETA: 2s - l - ETA: 2s - loss: 0.6335 - accuracy - ETA: 1s - loss: 0.6334 - accuracy: 0.76 - ETA: 1s - loss: - ETA: 0s - l\n",
      "Epoch 30/50\n",
      "8400/8400 [==============================] - 8s 957us/step - loss: 0.6118 - accuracy: 0.77451s - loss: 0.5990 - accu - ETA: 0s - loss: 0.6085 - accuracy: 0.77 - ETA: 0s - loss: 0.611\n",
      "Epoch 31/50\n",
      "8400/8400 [==============================] - 9s 1ms/step - loss: 0.5522 - accuracy: 0.7948\n",
      "Epoch 32/50\n",
      "8400/8400 [==============================] - 8s 954us/step - loss: 0.5524 - accuracy: 0.79904s - loss: 0.5338 - ac - - ETA: 1s - loss: 0.5378 - accuracy: 0.80 -\n",
      "Epoch 33/50\n",
      "8400/8400 [==============================] - 8s 959us/step - loss: 0.5127 - accuracy: 0.8131\n",
      "Epoch 34/50\n",
      "8400/8400 [==============================] - 9s 1ms/step - loss: 0.5263 - accuracy: 0.8094\n",
      "Epoch 35/50\n",
      "8400/8400 [==============================] - 9s 1ms/step - loss: 0.4741 - accuracy: 0.8270\n",
      "Epoch 36/50\n",
      "8400/8400 [==============================] - 8s 958us/step - loss: 0.4688 - accuracy: 0.8273\n",
      "Epoch 37/50\n",
      "8400/8400 [==============================] - 8s 957us/step - loss: 0.4571 - accuracy: 0.8349\n",
      "Epoch 38/50\n",
      "8400/8400 [==============================] - 9s 1ms/step - loss: 0.4337 - accuracy: 0.8429\n",
      "Epoch 39/50\n",
      "8400/8400 [==============================] - 8s 968us/step - loss: 0.3961 - accuracy: 0.8579\n",
      "Epoch 40/50\n",
      "8400/8400 [==============================] - 8s 959us/step - loss: 0.3825 - accuracy: 0.8638\n",
      "Epoch 41/50\n",
      "8400/8400 [==============================] - 8s 953us/step - loss: 0.4003 - accuracy: 0.85460s - loss: 0.4032 - accu\n",
      "Epoch 42/50\n",
      "8400/8400 [==============================] - 8s 950us/step - loss: 0.3516 - accuracy: 0.87120s - l\n",
      "Epoch 43/50\n",
      "8400/8400 [==============================] - 9s 1ms/step - loss: 0.3743 - accuracy: 0.8642\n",
      "Epoch 44/50\n",
      "8400/8400 [==============================] - 8s 953us/step - loss: 0.3445 - accuracy: 0.8708\n",
      "Epoch 45/50\n",
      "8400/8400 [==============================] - 8s 953us/step - loss: 0.3350 - accuracy: 0.87891s - loss: 0.3499 - accura - ETA: 0s - loss:\n",
      "Epoch 46/50\n",
      "8400/8400 [==============================] - 8s 953us/step - loss: 0.3422 - accuracy: 0.87202s - loss: 0.3439 - accu - ETA: 2s - loss: 0.3464 - accuracy: 0.87 - ETA: 2s - los\n",
      "Epoch 47/50\n",
      "8400/8400 [==============================] - 8s 965us/step - loss: 0.2808 - accuracy: 0.8992\n",
      "Epoch 48/50\n",
      "8400/8400 [==============================] - 9s 1ms/step - loss: 0.3072 - accuracy: 0.8918: 0s - loss: 0.3072 - accuracy: 0. - ETA: 0s - loss: 0.3075 - accuracy: 0.89\n",
      "Epoch 49/50\n",
      "8400/8400 [==============================] - 8s 961us/step - loss: 0.2702 - accuracy: 0.90194s - loss: 0.2577 - accuracy - ETA: 3s - - ETA: 0s - loss: 0.2699 - accuracy: \n",
      "Epoch 50/50\n",
      "8400/8400 [==============================] - 8s 962us/step - loss: 0.2430 - accuracy: 0.91190s - loss: 0.230\n",
      "--- 405.8533399105072 seconds ---\n"
     ]
    }
   ],
   "source": [
    "#model1.compile(loss='categorical_crossentropy',optimizer='adam',metrics=['accuracy'])\n",
    "\n",
    "#start_time = time.time()\n",
    "#train_hist1 = model1.fit(X_train,y_train,epochs=50,verbose=1)\n",
    "#print(\"--- %s seconds ---\" % (time.time() - start_time))"
   ]
  },
  {
   "cell_type": "markdown",
   "id": "6cb4bc89",
   "metadata": {},
   "source": [
    "Below code is for validation data:-"
   ]
  },
  {
   "cell_type": "code",
   "execution_count": 20,
   "id": "e8ebd81c",
   "metadata": {},
   "outputs": [
    {
     "name": "stdout",
     "output_type": "stream",
     "text": [
      "Epoch 1/50\n",
      "1050/1050 [==============================] - 2s 1ms/step - loss: 2.5467 - accuracy: 0.3029\n",
      "Epoch 2/50\n",
      "1050/1050 [==============================] - 1s 965us/step - loss: 1.6089 - accuracy: 0.35620s - loss: 1.6367 - accuracy: 0.34 - ETA: 0s - loss: 1.6225 - accuracy: \n",
      "Epoch 3/50\n",
      "1050/1050 [==============================] - 1s 972us/step - loss: 1.4972 - accuracy: 0.4371\n",
      "Epoch 4/50\n",
      "1050/1050 [==============================] - 1s 975us/step - loss: 1.4002 - accuracy: 0.4581\n",
      "Epoch 5/50\n",
      "1050/1050 [==============================] - 1s 1ms/step - loss: 1.2693 - accuracy: 0.5248\n",
      "Epoch 6/50\n",
      "1050/1050 [==============================] - 2s 1ms/step - loss: 1.1960 - accuracy: 0.5476\n",
      "Epoch 7/50\n",
      "1050/1050 [==============================] - 1s 960us/step - loss: 1.0947 - accuracy: 0.58950s - los - ETA: 0s - loss: 1.0947 - accuracy: 0.58\n",
      "Epoch 8/50\n",
      "1050/1050 [==============================] - 1s 963us/step - loss: 1.0073 - accuracy: 0.6371\n",
      "Epoch 9/50\n",
      "1050/1050 [==============================] - 1s 964us/step - loss: 0.8715 - accuracy: 0.6762\n",
      "Epoch 10/50\n",
      "1050/1050 [==============================] - ETA: 0s - loss: 0.7599 - accuracy: 0.71 - 1s 972us/step - loss: 0.7538 - accuracy: 0.7181\n",
      "Epoch 11/50\n",
      "1050/1050 [==============================] - 1s 968us/step - loss: 0.6661 - accuracy: 0.76190s - loss: 0.6353 - accuracy:  - ETA: 0s - loss: 0.6549 - accuracy: 0.76\n",
      "Epoch 12/50\n",
      "1050/1050 [==============================] - 1s 957us/step - loss: 0.6280 - accuracy: 0.7676\n",
      "Epoch 13/50\n",
      "1050/1050 [==============================] - 1s 960us/step - loss: 0.5301 - accuracy: 0.8171\n",
      "Epoch 14/50\n",
      "1050/1050 [==============================] - 1s 990us/step - loss: 0.4410 - accuracy: 0.8419\n",
      "Epoch 15/50\n",
      "1050/1050 [==============================] - 1s 974us/step - loss: 0.3826 - accuracy: 0.8657\n",
      "Epoch 16/50\n",
      "1050/1050 [==============================] - 1s 984us/step - loss: 0.3312 - accuracy: 0.88570s - loss: 0.2835 \n",
      "Epoch 17/50\n",
      "1050/1050 [==============================] - 1s 956us/step - loss: 0.3015 - accuracy: 0.89620s - loss: 0.2849 - accuracy\n",
      "Epoch 18/50\n",
      "1050/1050 [==============================] - ETA: 0s - loss: 0.2105 - accuracy: 0.94 - 1s 950us/step - loss: 0.2109 - accuracy: 0.9419\n",
      "Epoch 19/50\n",
      "1050/1050 [==============================] - 1s 957us/step - loss: 0.1617 - accuracy: 0.9552\n",
      "Epoch 20/50\n",
      "1050/1050 [==============================] - 1s 986us/step - loss: 0.1079 - accuracy: 0.9762\n",
      "Epoch 21/50\n",
      "1050/1050 [==============================] - 1s 977us/step - loss: 0.1418 - accuracy: 0.9648\n",
      "Epoch 22/50\n",
      "1050/1050 [==============================] - 1s 986us/step - loss: 0.1769 - accuracy: 0.9362\n",
      "Epoch 23/50\n",
      "1050/1050 [==============================] - 1s 971us/step - loss: 0.2964 - accuracy: 0.89520s - loss: 0.2436 - accura - ETA: 0s - loss: 0.2810 - accura\n",
      "Epoch 24/50\n",
      "1050/1050 [==============================] - 1s 978us/step - loss: 0.1992 - accuracy: 0.93330s - loss: 0.1921 - accuracy:  - ETA: 0s - loss: 0.1950 - ac\n",
      "Epoch 25/50\n",
      "1050/1050 [==============================] - 1s 971us/step - loss: 0.2502 - accuracy: 0.9286\n",
      "Epoch 26/50\n",
      "1050/1050 [==============================] - 1s 963us/step - loss: 0.3709 - accuracy: 0.8743\n",
      "Epoch 27/50\n",
      "1050/1050 [==============================] - 1s 960us/step - loss: 0.1328 - accuracy: 0.9686\n",
      "Epoch 28/50\n",
      "1050/1050 [==============================] - 1s 962us/step - loss: 0.0609 - accuracy: 0.99240s - loss: 0.0707 - accu\n",
      "Epoch 29/50\n",
      "1050/1050 [==============================] - 1s 952us/step - loss: 0.0273 - accuracy: 0.99810s - loss: 0.0315 - ac\n",
      "Epoch 30/50\n",
      "1050/1050 [==============================] - 1s 962us/step - loss: 0.0123 - accuracy: 1.0000\n",
      "Epoch 31/50\n",
      "1050/1050 [==============================] - 1s 967us/step - loss: 0.0084 - accuracy: 1.00000s - loss: 0.0097 - accuracy: 1. - ETA: 0s - loss: 0.009\n",
      "Epoch 32/50\n",
      "1050/1050 [==============================] - 1s 967us/step - loss: 0.0063 - accuracy: 1.0000\n",
      "Epoch 33/50\n",
      "1050/1050 [==============================] - 1s 961us/step - loss: 0.0054 - accuracy: 1.0000\n",
      "Epoch 34/50\n",
      "1050/1050 [==============================] - 1s 966us/step - loss: 0.0046 - accuracy: 1.00000s - loss: 0.0044 - accuracy: \n",
      "Epoch 35/50\n",
      "1050/1050 [==============================] - 1s 960us/step - loss: 0.0040 - accuracy: 1.00000s - loss: 0.0040 - accuracy: 1.\n",
      "Epoch 36/50\n",
      "1050/1050 [==============================] - 1s 961us/step - loss: 0.0035 - accuracy: 1.00000s - loss: 0.0035 - accu - ETA: 0s - loss: 0.0035 - accuracy: \n",
      "Epoch 37/50\n",
      "1050/1050 [==============================] - 1s 964us/step - loss: 0.0031 - accuracy: 1.0000\n",
      "Epoch 38/50\n",
      "1050/1050 [==============================] - 1s 955us/step - loss: 0.0029 - accuracy: 1.0000\n",
      "Epoch 39/50\n",
      "1050/1050 [==============================] - 1s 961us/step - loss: 0.0026 - accuracy: 1.0000\n",
      "Epoch 40/50\n",
      "1050/1050 [==============================] - 1s 963us/step - loss: 0.0024 - accuracy: 1.0000\n",
      "Epoch 41/50\n",
      "1050/1050 [==============================] - 1s 976us/step - loss: 0.0020 - accuracy: 1.0000\n",
      "Epoch 42/50\n",
      "1050/1050 [==============================] - 1s 971us/step - loss: 0.0018 - accuracy: 1.0000\n",
      "Epoch 43/50\n",
      "1050/1050 [==============================] - 1s 958us/step - loss: 0.0016 - accuracy: 1.00000s - loss: 0.0016 - accuracy:  - ETA: 0s - loss: 0.0015 - accu\n",
      "Epoch 44/50\n",
      "1050/1050 [==============================] - 1s 966us/step - loss: 0.0014 - accuracy: 1.0000\n",
      "Epoch 45/50\n",
      "1050/1050 [==============================] - 1s 974us/step - loss: 0.0013 - accuracy: 1.00000s - loss: 0.0013 - accuracy: \n",
      "Epoch 46/50\n",
      "1050/1050 [==============================] - 2s 1ms/step - loss: 0.0012 - accuracy: 1.0000\n",
      "Epoch 47/50\n",
      "1050/1050 [==============================] - 1s 1ms/step - loss: 0.0011 - accuracy: 1.0000 ETA: 0s - loss: 0.0010 - accuracy\n",
      "Epoch 48/50\n",
      "1050/1050 [==============================] - 1s 954us/step - loss: 9.9792e-04 - accuracy: 1.0000\n",
      "Epoch 49/50\n",
      "1050/1050 [==============================] - 1s 957us/step - loss: 9.2966e-04 - accuracy: 1.0000\n",
      "Epoch 50/50\n",
      "1050/1050 [==============================] - 1s 969us/step - loss: 8.5555e-04 - accuracy: 1.0000\n",
      "--- 52.5724196434021 seconds ---\n"
     ]
    }
   ],
   "source": [
    "#start_time = time.time()\n",
    "#valid_hist1 = model1.fit(X_validation,y_validation,epochs=50,verbose=1)\n",
    "#print(\"--- %s seconds ---\" % (time.time() - start_time))"
   ]
  },
  {
   "cell_type": "markdown",
   "id": "e34140b1",
   "metadata": {},
   "source": [
    "Learning curves are plotted. Loss vs epochs as well as Accuracy vs epochs for both training and validation:-"
   ]
  },
  {
   "cell_type": "code",
   "execution_count": 99,
   "id": "c5db3f2b",
   "metadata": {},
   "outputs": [
    {
     "data": {
      "image/png": "[encoded data removed]",
      "text/plain": [
       "<Figure size 432x288 with 1 Axes>"
      ]
     },
     "metadata": {
      "needs_background": "light"
     },
     "output_type": "display_data"
    },
    {
     "data": {
      "image/png": "[encoded data removed]",
      "text/plain": [
       "<Figure size 432x288 with 1 Axes>"
      ]
     },
     "metadata": {
      "needs_background": "light"
     },
     "output_type": "display_data"
    }
   ],
   "source": [
    "''''fig1 = plt.figure()\n",
    "plt.plot(train_hist1.history['accuracy'])\n",
    "plt.plot(valid_hist1.history['accuracy'])\n",
    "\n",
    "plt.xlabel('Epochs',weight='bold',fontsize=18)\n",
    "\n",
    "plt.ylabel('Accuracy',weight='bold',fontsize=18)\n",
    "legend_properties = {'weight':'bold','size':18}\n",
    "plt.xticks(weight = 'bold',fontsize=18)\n",
    "plt.yticks(weight = 'bold',fontsize=18)\n",
    "plt.legend(['Training', 'Validation'], loc='lower right',prop=legend_properties)\n",
    "\n",
    "plt.show()\n",
    "fig1.savefig('Journal Paper FSS ANN1/Actuator/Accuracy_VGG16_1',dpi=600,bbox_inches='tight')\n",
    "\n",
    "fig1 = plt.figure()\n",
    "plt.plot(train_hist1.history['loss'])\n",
    "plt.plot(valid_hist1.history['loss'])\n",
    "plt.xlabel('Epochs',weight='bold',fontsize=18)\n",
    "plt.xticks(weight = 'bold',fontsize=18)\n",
    "plt.yticks(weight = 'bold',fontsize=18)\n",
    "plt.ylabel('Loss',weight='bold',fontsize=18)\n",
    "plt.legend(['Training', 'Validation'], loc='upper right',prop=legend_properties)\n",
    "plt.show()\n",
    "fig1.savefig('Journal Paper FSS ANN1/Actuator/Loss_VGG16_1',dpi=600,bbox_inches='tight')#'''\n",
    "\n",
    "\n"
   ]
  },
  {
   "cell_type": "markdown",
   "id": "72a4366d",
   "metadata": {},
   "source": [
    "Model predictions:-"
   ]
  },
  {
   "cell_type": "code",
   "execution_count": 21,
   "id": "fee922c2",
   "metadata": {},
   "outputs": [
    {
     "data": {
      "text/plain": [
       "array([[4.7319820e-05, 1.7425402e-06, 5.8149032e-02, ..., 1.3100938e-02,\n",
       "        2.3482423e-03, 4.5311567e-04],\n",
       "       [1.1608877e-02, 1.0067980e-04, 4.5088625e-05, ..., 9.8823869e-01,\n",
       "        7.8084295e-09, 5.0686353e-08],\n",
       "       [6.2564750e-06, 7.6450038e-01, 2.7522510e-03, ..., 2.9482097e-05,\n",
       "        4.3617915e-10, 1.2183919e-07],\n",
       "       ...,\n",
       "       [2.3849226e-11, 2.1598016e-12, 3.8423091e-09, ..., 9.9346513e-01,\n",
       "        9.9573469e-07, 5.5513247e-03],\n",
       "       [5.6973938e-02, 1.8450592e-06, 5.2858341e-02, ..., 5.4383365e-04,\n",
       "        4.0486239e-10, 4.8371840e-10],\n",
       "       [1.2029435e-07, 5.8514774e-03, 6.8876863e-02, ..., 9.2527020e-01,\n",
       "        3.7165735e-09, 1.3317067e-06]], dtype=float32)"
      ]
     },
     "execution_count": 21,
     "metadata": {},
     "output_type": "execute_result"
    }
   ],
   "source": [
    "#predictions1 = model1.predict(x=X_test)\n",
    "#predictions1"
   ]
  },
  {
   "cell_type": "code",
   "execution_count": 22,
   "id": "e1bf46b7",
   "metadata": {},
   "outputs": [
    {
     "data": {
      "text/plain": [
       "array([[0, 0, 0, ..., 0, 0, 0],\n",
       "       [0, 0, 0, ..., 1, 0, 0],\n",
       "       [0, 0, 1, ..., 0, 0, 0],\n",
       "       ...,\n",
       "       [0, 0, 0, ..., 1, 0, 0],\n",
       "       [0, 0, 0, ..., 0, 0, 0],\n",
       "       [0, 0, 1, ..., 0, 0, 0]])"
      ]
     },
     "execution_count": 22,
     "metadata": {},
     "output_type": "execute_result"
    }
   ],
   "source": [
    "#y_test"
   ]
  },
  {
   "cell_type": "code",
   "execution_count": 23,
   "id": "f6ad9a8c",
   "metadata": {},
   "outputs": [],
   "source": [
    "#predictions1 = np.uint(np.round(predictions1,1))\n",
    "#pred1 = np.argmax(predictions1,axis=-1)\n",
    "\n",
    "#y_t1 = np.argmax(y_test,axis=-1)"
   ]
  },
  {
   "cell_type": "code",
   "execution_count": 24,
   "id": "a9157d1e",
   "metadata": {},
   "outputs": [
    {
     "name": "stdout",
     "output_type": "stream",
     "text": [
      "[3 4 2 ... 4 3 2]\n",
      "\n",
      " [0 4 0 ... 4 0 0]\n"
     ]
    }
   ],
   "source": [
    "#print(y_t1)\n",
    "#print('\\n',pred1)"
   ]
  },
  {
   "cell_type": "markdown",
   "id": "1a093934",
   "metadata": {},
   "source": [
    "Plotting Confusion Matrix for Test datasets to check performance of Model on test data:-"
   ]
  },
  {
   "cell_type": "code",
   "execution_count": 25,
   "id": "a223aa82",
   "metadata": {},
   "outputs": [],
   "source": [
    "#from sklearn.metrics import confusion_matrix,classification_report\n",
    "\n",
    "#cm = confusion_matrix(pred1,y_t1)"
   ]
  },
  {
   "cell_type": "code",
   "execution_count": 89,
   "id": "fce82401",
   "metadata": {},
   "outputs": [],
   "source": [
    "''''import itertools\n",
    "def plot_confusion_matrix(cm, classes,\n",
    "                          normalize=True,\n",
    "                          title='Confusion matrix',\n",
    "                          cmap=plt.cm.Blues):\n",
    "    \"\"\"\n",
    "    This function prints and plots the confusion matrix.\n",
    "    Normalization can be applied by setting `normalize=True`.\n",
    "    \"\"\"\n",
    "    fig1 = plt.figure()\n",
    "    plt.imshow(cm, interpolation='nearest', cmap=cmap)\n",
    "    plt.title(title)\n",
    "    #plt.colorbar()\n",
    "    tick_marks = np.arange(len(classes))\n",
    "    plt.xticks(tick_marks, classes, rotation=45,weight='bold')\n",
    "    plt.yticks(tick_marks, classes,weight='bold')\n",
    "\n",
    "    if normalize:\n",
    "        cm = np.round((cm.astype('float') / cm.sum(axis=1)[:, np.newaxis])*100,1) \n",
    "        print(\"Normalized confusion matrix\")\n",
    "    else:\n",
    "        print('Confusion matrix, without normalization')\n",
    "\n",
    "    print(cm)\n",
    "\n",
    "    thresh = cm.max() / 2.\n",
    "    for i, j in itertools.product(range(cm.shape[0]), range(cm.shape[1])):\n",
    "        plt.text(j, i, cm[i, j],weight='bold',\n",
    "                 horizontalalignment=\"center\",\n",
    "                 color=\"black\" if cm[i, j] > thresh else \"red\")\n",
    "\n",
    "    plt.tight_layout()\n",
    "    plt.ylabel('True label',fontsize=16,weight='bold')\n",
    "    plt.xlabel('Predicted label',labelpad=1,fontsize=16,weight='bold')\n",
    "    plt.title('Confusion Matrix',weight='bold',fontsize=18)\n",
    "    fig1.savefig('Journal Paper FSS ANN1/Actuator/Confusion_Matrix_VGG16_1',dpi=600,bbox_inches='tight')#'''"
   ]
  },
  {
   "cell_type": "code",
   "execution_count": 90,
   "id": "d0389f2f",
   "metadata": {},
   "outputs": [
    {
     "name": "stdout",
     "output_type": "stream",
     "text": [
      "Normalized confusion matrix\n",
      "[[23.2 14.  15.7 12.5 12.3 14.   8.4]\n",
      " [ 7.1 57.1  6.  13.1  7.1  3.6  6. ]\n",
      " [ 9.2 26.4 40.2  9.2  8.   4.6  2.3]\n",
      " [16.   7.4 13.8 27.7 10.6  9.6 14.9]\n",
      " [15.4  2.6 10.3  9.  43.6 10.3  9. ]\n",
      " [ 3.2  0.   6.3 12.7 19.  42.9 15.9]\n",
      " [ 5.7  4.9  5.7 10.7 19.7  8.2 45.1]]\n"
     ]
    },
    {
     "data": {
      "image/png": "[encoded data removed]",
      "text/plain": [
       "<Figure size 432x288 with 1 Axes>"
      ]
     },
     "metadata": {
      "needs_background": "light"
     },
     "output_type": "display_data"
    }
   ],
   "source": [
    "\n",
    "#cm_plot_labels = ['0 kg','0.5 kg','1 kg','1.5 kg','2 kg','2.5 kg','3 kg']\n",
    "\n",
    "#plot_confusion_matrix(cm = cm,classes = cm_plot_labels,title='Confusion Matrix')"
   ]
  },
  {
   "cell_type": "markdown",
   "id": "de86664b",
   "metadata": {},
   "source": [
    "## Similar process for VGG-19 model below:-"
   ]
  },
  {
   "cell_type": "code",
   "execution_count": 78,
   "id": "be68d249",
   "metadata": {},
   "outputs": [],
   "source": [
    "#vgg_19 = VGG19(input_shape = (img_size,img_size,3), weights='imagenet',include_top=False)"
   ]
  },
  {
   "cell_type": "code",
   "execution_count": 79,
   "id": "17054609",
   "metadata": {},
   "outputs": [
    {
     "name": "stdout",
     "output_type": "stream",
     "text": [
      "Model: \"vgg19\"\n",
      "_________________________________________________________________\n",
      "Layer (type)                 Output Shape              Param #   \n",
      "=================================================================\n",
      "input_2 (InputLayer)         (None, 100, 100, 3)       0         \n",
      "_________________________________________________________________\n",
      "block1_conv1 (Conv2D)        (None, 100, 100, 64)      1792      \n",
      "_________________________________________________________________\n",
      "block1_conv2 (Conv2D)        (None, 100, 100, 64)      36928     \n",
      "_________________________________________________________________\n",
      "block1_pool (MaxPooling2D)   (None, 50, 50, 64)        0         \n",
      "_________________________________________________________________\n",
      "block2_conv1 (Conv2D)        (None, 50, 50, 128)       73856     \n",
      "_________________________________________________________________\n",
      "block2_conv2 (Conv2D)        (None, 50, 50, 128)       147584    \n",
      "_________________________________________________________________\n",
      "block2_pool (MaxPooling2D)   (None, 25, 25, 128)       0         \n",
      "_________________________________________________________________\n",
      "block3_conv1 (Conv2D)        (None, 25, 25, 256)       295168    \n",
      "_________________________________________________________________\n",
      "block3_conv2 (Conv2D)        (None, 25, 25, 256)       590080    \n",
      "_________________________________________________________________\n",
      "block3_conv3 (Conv2D)        (None, 25, 25, 256)       590080    \n",
      "_________________________________________________________________\n",
      "block3_conv4 (Conv2D)        (None, 25, 25, 256)       590080    \n",
      "_________________________________________________________________\n",
      "block3_pool (MaxPooling2D)   (None, 12, 12, 256)       0         \n",
      "_________________________________________________________________\n",
      "block4_conv1 (Conv2D)        (None, 12, 12, 512)       1180160   \n",
      "_________________________________________________________________\n",
      "block4_conv2 (Conv2D)        (None, 12, 12, 512)       2359808   \n",
      "_________________________________________________________________\n",
      "block4_conv3 (Conv2D)        (None, 12, 12, 512)       2359808   \n",
      "_________________________________________________________________\n",
      "block4_conv4 (Conv2D)        (None, 12, 12, 512)       2359808   \n",
      "_________________________________________________________________\n",
      "block4_pool (MaxPooling2D)   (None, 6, 6, 512)         0         \n",
      "_________________________________________________________________\n",
      "block5_conv1 (Conv2D)        (None, 6, 6, 512)         2359808   \n",
      "_________________________________________________________________\n",
      "block5_conv2 (Conv2D)        (None, 6, 6, 512)         2359808   \n",
      "_________________________________________________________________\n",
      "block5_conv3 (Conv2D)        (None, 6, 6, 512)         2359808   \n",
      "_________________________________________________________________\n",
      "block5_conv4 (Conv2D)        (None, 6, 6, 512)         2359808   \n",
      "_________________________________________________________________\n",
      "block5_pool (MaxPooling2D)   (None, 3, 3, 512)         0         \n",
      "=================================================================\n",
      "Total params: 20,024,384\n",
      "Trainable params: 0\n",
      "Non-trainable params: 20,024,384\n",
      "_________________________________________________________________\n"
     ]
    }
   ],
   "source": [
    "#vgg_19.trainable = False    "
   ]
  },
  {
   "cell_type": "code",
   "execution_count": 81,
   "id": "06fa6c5a",
   "metadata": {},
   "outputs": [
    {
     "name": "stdout",
     "output_type": "stream",
     "text": [
      "Model: \"sequential_4\"\n",
      "_________________________________________________________________\n",
      "Layer (type)                 Output Shape              Param #   \n",
      "=================================================================\n",
      "vgg19 (Model)                (None, 3, 3, 512)         20024384  \n",
      "_________________________________________________________________\n",
      "flatten_4 (Flatten)          (None, 4608)              0         \n",
      "_________________________________________________________________\n",
      "dense_19 (Dense)             (None, 400)               1843600   \n",
      "_________________________________________________________________\n",
      "dense_20 (Dense)             (None, 400)               160400    \n",
      "_________________________________________________________________\n",
      "dense_21 (Dense)             (None, 400)               160400    \n",
      "_________________________________________________________________\n",
      "dense_22 (Dense)             (None, 400)               160400    \n",
      "_________________________________________________________________\n",
      "dense_26 (Dense)             (None, 7)                 2807      \n",
      "=================================================================\n",
      "Total params: 22,351,991\n",
      "Trainable params: 2,327,607\n",
      "Non-trainable params: 20,024,384\n",
      "_________________________________________________________________\n"
     ]
    }
   ],
   "source": [
    "\n",
    "\n",
    "''''flatten_layer = keras.layers.Flatten()\n",
    "dense_layer_1 = keras.layers.Dense(400, activation='relu')\n",
    "dense_layer_2 = keras.layers.Dense(400, activation='relu')\n",
    "dense_layer_3 = keras.layers.Dense(400, activation='relu')\n",
    "dense_layer_4 = keras.layers.Dense(400, activation='relu')\n",
    "\n",
    "prediction_layer = keras.layers.Dense(7, activation='softmax')\n",
    "\n",
    "\n",
    "model2 = keras.Sequential([\n",
    "    vgg_19,\n",
    "    flatten_layer,\n",
    "    dense_layer_1,\n",
    "    dense_layer_2,\n",
    "    dense_layer_3,\n",
    "    dense_layer_4,\n",
    "    prediction_layer\n",
    "])\n",
    "\n",
    "model2.summary()#'''"
   ]
  },
  {
   "cell_type": "code",
   "execution_count": 82,
   "id": "1e347aa9",
   "metadata": {},
   "outputs": [],
   "source": [
    "#opt = tf.keras.optimizers.Adam(1e-04)"
   ]
  },
  {
   "cell_type": "code",
   "execution_count": 83,
   "id": "666f9cce",
   "metadata": {},
   "outputs": [],
   "source": [
    "#model2.compile(loss='categorical_crossentropy',optimizer=opt,metrics=['accuracy'])"
   ]
  },
  {
   "cell_type": "code",
   "execution_count": 84,
   "id": "01a5fecd",
   "metadata": {},
   "outputs": [
    {
     "name": "stdout",
     "output_type": "stream",
     "text": [
      "Epoch 1/50\n",
      "8400/8400 [==============================] - 9s 1ms/step - loss: 1.8064 - accuracy: 0.2344\n",
      "Epoch 2/50\n",
      "8400/8400 [==============================] - 9s 1ms/step - loss: 1.6825 - accuracy: 0.3093\n",
      "Epoch 3/50\n",
      "8400/8400 [==============================] - 9s 1ms/step - loss: 1.6111 - accuracy: 0.3486\n",
      "Epoch 4/50\n",
      "8400/8400 [==============================] - 9s 1ms/step - loss: 1.5440 - accuracy: 0.3945\n",
      "Epoch 5/50\n",
      "8400/8400 [==============================] - 9s 1ms/step - loss: 1.4871 - accuracy: 0.4104\n",
      "Epoch 6/50\n",
      "8400/8400 [==============================] - 9s 1ms/step - loss: 1.4190 - accuracy: 0.4492\n",
      "Epoch 7/50\n",
      "8400/8400 [==============================] - 9s 1ms/step - loss: 1.3718 - accuracy: 0.4782\n",
      "Epoch 8/50\n",
      "8400/8400 [==============================] - 10s 1ms/step - loss: 1.2897 - accuracy: 0.5110\n",
      "Epoch 9/50\n",
      "8400/8400 [==============================] - 9s 1ms/step - loss: 1.2172 - accuracy: 0.5413\n",
      "Epoch 10/50\n",
      "8400/8400 [==============================] - 9s 1ms/step - loss: 1.1388 - accuracy: 0.5767\n",
      "Epoch 11/50\n",
      "8400/8400 [==============================] - 10s 1ms/step - loss: 1.0476 - accuracy: 0.6186\n",
      "Epoch 12/50\n",
      "8400/8400 [==============================] - 9s 1ms/step - loss: 0.9605 - accuracy: 0.6508\n",
      "Epoch 13/50\n",
      "8400/8400 [==============================] - 9s 1ms/step - loss: 0.8938 - accuracy: 0.6774\n",
      "Epoch 14/50\n",
      "8400/8400 [==============================] - 10s 1ms/step - loss: 0.8135 - accuracy: 0.7032\n",
      "Epoch 15/50\n",
      "8400/8400 [==============================] - 9s 1ms/step - loss: 0.7321 - accuracy: 0.7405\n",
      "Epoch 16/50\n",
      "8400/8400 [==============================] - 9s 1ms/step - loss: 0.6477 - accuracy: 0.7712\n",
      "Epoch 17/50\n",
      "8400/8400 [==============================] - 10s 1ms/step - loss: 0.5888 - accuracy: 0.7892\n",
      "Epoch 18/50\n",
      "8400/8400 [==============================] - 9s 1ms/step - loss: 0.5106 - accuracy: 0.8271\n",
      "Epoch 19/50\n",
      "8400/8400 [==============================] - 9s 1ms/step - loss: 0.4367 - accuracy: 0.8550\n",
      "Epoch 20/50\n",
      "8400/8400 [==============================] - 10s 1ms/step - loss: 0.3867 - accuracy: 0.8686\n",
      "Epoch 21/50\n",
      "8400/8400 [==============================] - 9s 1ms/step - loss: 0.3242 - accuracy: 0.8943\n",
      "Epoch 22/50\n",
      "8400/8400 [==============================] - 10s 1ms/step - loss: 0.2612 - accuracy: 0.9185\n",
      "Epoch 23/50\n",
      "8400/8400 [==============================] - 9s 1ms/step - loss: 0.2397 - accuracy: 0.9221\n",
      "Epoch 24/50\n",
      "8400/8400 [==============================] - 9s 1ms/step - loss: 0.2035 - accuracy: 0.9362\n",
      "Epoch 25/50\n",
      "8400/8400 [==============================] - ETA: 0s - loss: 0.1698 - accuracy: 0.94 - 10s 1ms/step - loss: 0.1702 - accuracy: 0.9474\n",
      "Epoch 26/50\n",
      "8400/8400 [==============================] - 9s 1ms/step - loss: 0.1387 - accuracy: 0.9586\n",
      "Epoch 27/50\n",
      "8400/8400 [==============================] - 9s 1ms/step - loss: 0.1293 - accuracy: 0.9604\n",
      "Epoch 28/50\n",
      "8400/8400 [==============================] - 10s 1ms/step - loss: 0.1089 - accuracy: 0.9701\n",
      "Epoch 29/50\n",
      "8400/8400 [==============================] - 9s 1ms/step - loss: 0.1091 - accuracy: 0.9674\n",
      "Epoch 30/50\n",
      "8400/8400 [==============================] - 9s 1ms/step - loss: 0.0641 - accuracy: 0.9844\n",
      "Epoch 31/50\n",
      "8400/8400 [==============================] - 10s 1ms/step - loss: 0.0827 - accuracy: 0.9740\n",
      "Epoch 32/50\n",
      "8400/8400 [==============================] - 9s 1ms/step - loss: 0.1014 - accuracy: 0.9679\n",
      "Epoch 33/50\n",
      "8400/8400 [==============================] - 10s 1ms/step - loss: 0.0898 - accuracy: 0.9720\n",
      "Epoch 34/50\n",
      "8400/8400 [==============================] - 9s 1ms/step - loss: 0.0121 - accuracy: 0.9996\n",
      "Epoch 35/50\n",
      "8400/8400 [==============================] - 9s 1ms/step - loss: 0.0058 - accuracy: 1.0000\n",
      "Epoch 36/50\n",
      "8400/8400 [==============================] - 10s 1ms/step - loss: 0.0038 - accuracy: 1.0000\n",
      "Epoch 37/50\n",
      "8400/8400 [==============================] - 9s 1ms/step - loss: 0.0029 - accuracy: 1.0000\n",
      "Epoch 38/50\n",
      "8400/8400 [==============================] - 9s 1ms/step - loss: 0.0023 - accuracy: 1.0000\n",
      "Epoch 39/50\n",
      "8400/8400 [==============================] - 10s 1ms/step - loss: 0.0020 - accuracy: 1.0000\n",
      "Epoch 40/50\n",
      "8400/8400 [==============================] - 9s 1ms/step - loss: 0.0016 - accuracy: 1.0000\n",
      "Epoch 41/50\n",
      "8400/8400 [==============================] - 9s 1ms/step - loss: 0.0014 - accuracy: 1.0000\n",
      "Epoch 42/50\n",
      "8400/8400 [==============================] - 9s 1ms/step - loss: 0.0012 - accuracy: 1.0000\n",
      "Epoch 43/50\n",
      "8400/8400 [==============================] - 10s 1ms/step - loss: 0.0010 - accuracy: 1.0000\n",
      "Epoch 44/50\n",
      "8400/8400 [==============================] - 9s 1ms/step - loss: 9.3070e-04 - accuracy: 1.0000\n",
      "Epoch 45/50\n",
      "8400/8400 [==============================] - 10s 1ms/step - loss: 7.8598e-04 - accuracy: 1.0000\n",
      "Epoch 46/50\n",
      "8400/8400 [==============================] - 9s 1ms/step - loss: 6.6415e-04 - accuracy: 1.0000\n",
      "Epoch 47/50\n",
      "8400/8400 [==============================] - 9s 1ms/step - loss: 5.7946e-04 - accuracy: 1.0000\n",
      "Epoch 48/50\n",
      "8400/8400 [==============================] - 10s 1ms/step - loss: 5.5352e-04 - accuracy: 1.0000\n",
      "Epoch 49/50\n",
      "8400/8400 [==============================] - 9s 1ms/step - loss: 4.2662e-04 - accuracy: 1.0000\n",
      "Epoch 50/50\n",
      "8400/8400 [==============================] - 10s 1ms/step - loss: 3.5999e-04 - accuracy: 1.0000 0s - loss: 3.6036e-04 - accuracy: 1.00\n",
      "--- 467.37324929237366 seconds ---\n"
     ]
    }
   ],
   "source": [
    "#start_time = time.time()\n",
    "#train_hist2 = model2.fit(X_train,y_train,epochs=50,verbose=1)\n",
    "#print(\"--- %s seconds ---\" % (time.time() - start_time))"
   ]
  },
  {
   "cell_type": "code",
   "execution_count": 85,
   "id": "8c8127ba",
   "metadata": {},
   "outputs": [
    {
     "name": "stdout",
     "output_type": "stream",
     "text": [
      "Epoch 1/50\n",
      "1050/1050 [==============================] - 1s 1ms/step - loss: 4.1759 - accuracy: 0.2705\n",
      "Epoch 2/50\n",
      "1050/1050 [==============================] - 1s 1ms/step - loss: 1.6079 - accuracy: 0.3876\n",
      "Epoch 3/50\n",
      "1050/1050 [==============================] - 1s 1ms/step - loss: 1.4219 - accuracy: 0.4886\n",
      "Epoch 4/50\n",
      "1050/1050 [==============================] - 1s 1ms/step - loss: 1.3424 - accuracy: 0.5124\n",
      "Epoch 5/50\n",
      "1050/1050 [==============================] - 1s 1ms/step - loss: 1.1942 - accuracy: 0.5705\n",
      "Epoch 6/50\n",
      "1050/1050 [==============================] - 1s 1ms/step - loss: 1.0615 - accuracy: 0.6181\n",
      "Epoch 7/50\n",
      "1050/1050 [==============================] - 1s 1ms/step - loss: 0.9598 - accuracy: 0.6657: 0s - loss: 0.9606 - accu\n",
      "Epoch 8/50\n",
      "1050/1050 [==============================] - 1s 1ms/step - loss: 0.9039 - accuracy: 0.6705\n",
      "Epoch 9/50\n",
      "1050/1050 [==============================] - 1s 1ms/step - loss: 0.7414 - accuracy: 0.7495\n",
      "Epoch 10/50\n",
      "1050/1050 [==============================] - 1s 1ms/step - loss: 0.6354 - accuracy: 0.7962\n",
      "Epoch 11/50\n",
      "1050/1050 [==============================] - 1s 1ms/step - loss: 0.5444 - accuracy: 0.8248\n",
      "Epoch 12/50\n",
      "1050/1050 [==============================] - 1s 1ms/step - loss: 0.4681 - accuracy: 0.8610: 0s - loss: 0\n",
      "Epoch 13/50\n",
      "1050/1050 [==============================] - 1s 1ms/step - loss: 0.3530 - accuracy: 0.9038\n",
      "Epoch 14/50\n",
      "1050/1050 [==============================] - 1s 1ms/step - loss: 0.3174 - accuracy: 0.9095: 0s - loss: 0.3038 - accuracy: 0. - ETA: 0s - loss: 0.3144 - \n",
      "Epoch 15/50\n",
      "1050/1050 [==============================] - 1s 1ms/step - loss: 0.2147 - accuracy: 0.9562: 0s - loss: 0.2222 - accura\n",
      "Epoch 16/50\n",
      "1050/1050 [==============================] - 1s 1ms/step - loss: 0.1687 - accuracy: 0.9686\n",
      "Epoch 17/50\n",
      "1050/1050 [==============================] - 1s 1ms/step - loss: 0.1442 - accuracy: 0.9752\n",
      "Epoch 18/50\n",
      "1050/1050 [==============================] - 1s 1ms/step - loss: 0.0983 - accuracy: 0.9933\n",
      "Epoch 19/50\n",
      "1050/1050 [==============================] - 1s 1ms/step - loss: 0.0825 - accuracy: 0.9933\n",
      "Epoch 20/50\n",
      "1050/1050 [==============================] - 1s 1ms/step - loss: 0.0587 - accuracy: 0.9990\n",
      "Epoch 21/50\n",
      "1050/1050 [==============================] - 1s 1ms/step - loss: 0.0436 - accuracy: 1.0000\n",
      "Epoch 22/50\n",
      "1050/1050 [==============================] - 1s 1ms/step - loss: 0.0364 - accuracy: 1.0000\n",
      "Epoch 23/50\n",
      "1050/1050 [==============================] - 1s 1ms/step - loss: 0.0294 - accuracy: 1.0000\n",
      "Epoch 24/50\n",
      "1050/1050 [==============================] - 2s 2ms/step - loss: 0.0241 - accuracy: 1.0000\n",
      "Epoch 25/50\n",
      "1050/1050 [==============================] - 1s 1ms/step - loss: 0.0212 - accuracy: 1.0000\n",
      "Epoch 26/50\n",
      "1050/1050 [==============================] - 1s 1ms/step - loss: 0.0179 - accuracy: 1.0000\n",
      "Epoch 27/50\n",
      "1050/1050 [==============================] - 1s 1ms/step - loss: 0.0164 - accuracy: 1.0000\n",
      "Epoch 28/50\n",
      "1050/1050 [==============================] - 1s 1ms/step - loss: 0.0148 - accuracy: 1.0000\n",
      "Epoch 29/50\n",
      "1050/1050 [==============================] - 1s 1ms/step - loss: 0.0132 - accuracy: 1.0000\n",
      "Epoch 30/50\n",
      "1050/1050 [==============================] - 1s 1ms/step - loss: 0.0117 - accuracy: 1.0000\n",
      "Epoch 31/50\n",
      "1050/1050 [==============================] - 1s 1ms/step - loss: 0.0109 - accuracy: 1.0000\n",
      "Epoch 32/50\n",
      "1050/1050 [==============================] - 1s 1ms/step - loss: 0.0101 - accuracy: 1.0000\n",
      "Epoch 33/50\n",
      "1050/1050 [==============================] - 1s 1ms/step - loss: 0.0090 - accuracy: 1.0000\n",
      "Epoch 34/50\n",
      "1050/1050 [==============================] - 1s 1ms/step - loss: 0.0083 - accuracy: 1.0000\n",
      "Epoch 35/50\n",
      "1050/1050 [==============================] - 1s 1ms/step - loss: 0.0074 - accuracy: 1.0000\n",
      "Epoch 36/50\n",
      "1050/1050 [==============================] - 1s 1ms/step - loss: 0.0070 - accuracy: 1.0000\n",
      "Epoch 37/50\n",
      "1050/1050 [==============================] - 1s 1ms/step - loss: 0.0066 - accuracy: 1.0000\n",
      "Epoch 38/50\n",
      "1050/1050 [==============================] - 1s 1ms/step - loss: 0.0063 - accuracy: 1.0000\n",
      "Epoch 39/50\n",
      "1050/1050 [==============================] - 1s 1ms/step - loss: 0.0057 - accuracy: 1.0000\n",
      "Epoch 40/50\n",
      "1050/1050 [==============================] - 1s 1ms/step - loss: 0.0053 - accuracy: 1.0000\n",
      "Epoch 41/50\n",
      "1050/1050 [==============================] - 1s 1ms/step - loss: 0.0050 - accuracy: 1.0000\n",
      "Epoch 42/50\n",
      "1050/1050 [==============================] - 1s 1ms/step - loss: 0.0047 - accuracy: 1.0000\n",
      "Epoch 43/50\n",
      "1050/1050 [==============================] - 1s 1ms/step - loss: 0.0044 - accuracy: 1.0000: 0s - loss: 0.0044 - accuracy: 1.\n",
      "Epoch 44/50\n",
      "1050/1050 [==============================] - 1s 1ms/step - loss: 0.0042 - accuracy: 1.0000\n",
      "Epoch 45/50\n",
      "1050/1050 [==============================] - 1s 1ms/step - loss: 0.0040 - accuracy: 1.0000\n",
      "Epoch 46/50\n",
      "1050/1050 [==============================] - 2s 1ms/step - loss: 0.0038 - accuracy: 1.0000\n",
      "Epoch 47/50\n",
      "1050/1050 [==============================] - 1s 1ms/step - loss: 0.0036 - accuracy: 1.0000\n",
      "Epoch 48/50\n",
      "1050/1050 [==============================] - 1s 1ms/step - loss: 0.0034 - accuracy: 1.0000\n",
      "Epoch 49/50\n",
      "1050/1050 [==============================] - 1s 1ms/step - loss: 0.0033 - accuracy: 1.0000\n",
      "Epoch 50/50\n",
      "1050/1050 [==============================] - 1s 1ms/step - loss: 0.0031 - accuracy: 1.0000\n",
      "--- 58.37049841880798 seconds ---\n"
     ]
    }
   ],
   "source": [
    "#start_time = time.time()\n",
    "#valid_hist2 = model2.fit(X_validation,y_validation,epochs=50,verbose=1)\n",
    "#print(\"--- %s seconds ---\" % (time.time() - start_time))"
   ]
  },
  {
   "cell_type": "code",
   "execution_count": 100,
   "id": "f6b94c58",
   "metadata": {},
   "outputs": [
    {
     "data": {
      "image/png": "[encoded data removed]",
      "text/plain": [
       "<Figure size 432x288 with 1 Axes>"
      ]
     },
     "metadata": {
      "needs_background": "light"
     },
     "output_type": "display_data"
    },
    {
     "data": {
      "image/png": "[encoded data removed]",
      "text/plain": [
       "<Figure size 432x288 with 1 Axes>"
      ]
     },
     "metadata": {
      "needs_background": "light"
     },
     "output_type": "display_data"
    }
   ],
   "source": [
    "''''fig1 = plt.figure()\n",
    "plt.plot(train_hist2.history['accuracy'])\n",
    "plt.plot(valid_hist2.history['accuracy'])\n",
    "\n",
    "plt.xlabel('Epochs',weight='bold',fontsize=18)\n",
    "\n",
    "plt.ylabel('Accuracy',weight='bold',fontsize=18)\n",
    "legend_properties = {'weight':'bold','size':18}\n",
    "plt.xticks(weight = 'bold',fontsize=18)\n",
    "plt.yticks(weight = 'bold',fontsize=18)\n",
    "plt.legend(['Training', 'Validation'], loc='lower right',prop=legend_properties)\n",
    "plt.show()\n",
    "fig1.savefig('Journal Paper FSS ANN1/Actuator/Accuracy_VGG_19_1',dpi=600,bbox_inches='tight')\n",
    "\n",
    "fig1 = plt.figure()\n",
    "plt.plot(train_hist2.history['loss'])\n",
    "plt.plot(valid_hist2.history['loss'])\n",
    "plt.xlabel('Epochs',weight='bold',fontsize=18)\n",
    "\n",
    "plt.ylabel('Loss',weight='bold',fontsize=18)\n",
    "legend_properties = {'weight':'bold','size':18}\n",
    "plt.xticks(weight = 'bold',fontsize=18)\n",
    "plt.yticks(weight = 'bold',fontsize=18)\n",
    "plt.legend(['Training', 'Validation'], loc='upper right',prop=legend_properties)\n",
    "plt.show()\n",
    "fig1.savefig('Journal Paper FSS ANN1/Actuator/Loss_VGG_19_1',dpi=600,bbox_inches='tight')#'''\n",
    "\n"
   ]
  },
  {
   "cell_type": "code",
   "execution_count": 136,
   "id": "8787e5ad",
   "metadata": {},
   "outputs": [
    {
     "data": {
      "text/plain": [
       "array([[3.5008019e-10, 1.0199123e-08, 1.1416548e-05, ..., 9.9497223e-01,\n",
       "        2.1155065e-05, 4.8069428e-03],\n",
       "       [1.2287225e-14, 1.5377792e-16, 3.8756465e-13, ..., 4.4284264e-12,\n",
       "        2.5244496e-12, 1.0000000e+00],\n",
       "       [5.3710753e-01, 4.6214944e-01, 6.7129184e-04, ..., 3.4829238e-05,\n",
       "        3.5708646e-05, 1.0807332e-06],\n",
       "       ...,\n",
       "       [9.9284041e-01, 9.2027371e-04, 6.2821107e-04, ..., 2.3640299e-03,\n",
       "        2.6144666e-04, 2.5191056e-03],\n",
       "       [4.1501098e-06, 7.7556900e-04, 9.9877650e-01, ..., 4.4373702e-04,\n",
       "        2.8120629e-08, 2.7446287e-11],\n",
       "       [6.6391221e-05, 3.7768562e-03, 1.3756883e-04, ..., 5.5810618e-03,\n",
       "        9.6785867e-01, 1.4442170e-02]], dtype=float32)"
      ]
     },
     "execution_count": 136,
     "metadata": {},
     "output_type": "execute_result"
    }
   ],
   "source": [
    "#predictions2 = model2.predict(x=X_test)\n",
    "#predictions2"
   ]
  },
  {
   "cell_type": "code",
   "execution_count": 137,
   "id": "66135f25",
   "metadata": {},
   "outputs": [
    {
     "data": {
      "text/plain": [
       "array([[0, 0, 0, ..., 1, 0, 0],\n",
       "       [0, 0, 0, ..., 0, 0, 1],\n",
       "       [0, 0, 0, ..., 0, 1, 0],\n",
       "       ...,\n",
       "       [1, 0, 0, ..., 0, 0, 0],\n",
       "       [1, 0, 0, ..., 0, 0, 0],\n",
       "       [0, 0, 0, ..., 1, 0, 0]])"
      ]
     },
     "execution_count": 137,
     "metadata": {},
     "output_type": "execute_result"
    }
   ],
   "source": [
    "#y_test"
   ]
  },
  {
   "cell_type": "code",
   "execution_count": 138,
   "id": "2529eede",
   "metadata": {},
   "outputs": [],
   "source": [
    "#predictions2 = np.uint(np.round(predictions2,1))\n",
    "#pred2 = np.argmax(predictions2,axis=-1)\n",
    "\n",
    "#y_t1 = np.argmax(y_test,axis=-1)"
   ]
  },
  {
   "cell_type": "code",
   "execution_count": 139,
   "id": "28a0c0a6",
   "metadata": {},
   "outputs": [
    {
     "name": "stdout",
     "output_type": "stream",
     "text": [
      "[4 6 5 ... 0 0 4]\n",
      "\n",
      " [4 6 0 ... 0 2 5]\n"
     ]
    }
   ],
   "source": [
    "#print(y_t1)\n",
    "#print('\\n',pred2)"
   ]
  },
  {
   "cell_type": "code",
   "execution_count": 140,
   "id": "1e9d084a",
   "metadata": {},
   "outputs": [],
   "source": [
    "#import numpy as np\n",
    "#import matplotlib.pyplot as plt\n",
    "#from sklearn.metrics import confusion_matrix,classification_report\n",
    "\n",
    "#cm = confusion_matrix(pred2,y_t1)\n"
   ]
  },
  {
   "cell_type": "code",
   "execution_count": 185,
   "id": "988e49e5",
   "metadata": {},
   "outputs": [],
   "source": [
    "''''import itertools\n",
    "def plot_confusion_matrix(cm, classes,\n",
    "                          normalize=True,\n",
    "                          title='Confusion matrix',\n",
    "                          cmap=plt.cm.Oranges):\n",
    "    \"\"\"\n",
    "    This function prints and plots the confusion matrix.\n",
    "    Normalization can be applied by setting `normalize=True`.\n",
    "    \"\"\"\n",
    "    fig1 = plt.figure()\n",
    "    plt.imshow(cm, interpolation='nearest', cmap=cmap)\n",
    "    plt.title(title)\n",
    "    #plt.colorbar()\n",
    "    tick_marks = np.arange(len(classes))\n",
    "    plt.xticks(tick_marks, classes, rotation=45,weight='bold')\n",
    "    plt.yticks(tick_marks, classes,weight='bold')\n",
    "\n",
    "    if normalize:\n",
    "        cm = np.round((cm.astype('float') / cm.sum(axis=1)[:, np.newaxis])*100,1) \n",
    "        print(\"Normalized confusion matrix\")\n",
    "    else:\n",
    "        print('Confusion matrix, without normalization')\n",
    "\n",
    "    print(cm)\n",
    "\n",
    "    thresh = cm.max() / 2.\n",
    "    for i, j in itertools.product(range(cm.shape[0]), range(cm.shape[1])):\n",
    "        plt.text(j, i, cm[i, j],weight='bold',\n",
    "                 horizontalalignment=\"center\",\n",
    "                 color=\"white\" if cm[i, j] > thresh else \"black\")\n",
    "\n",
    "    plt.tight_layout()\n",
    "    plt.ylabel('True label',fontsize=16,weight='bold')\n",
    "    plt.xlabel('Predicted label',labelpad=1,fontsize=16,weight='bold')\n",
    "    plt.title('Confusion Matrix',weight='bold',fontsize=18)\n",
    "\n",
    "    fig1.savefig('Journal Paper FSS ANN1/Actuator/Confusion_Matrix_VGG19_1',dpi=600,bbox_inches='tight')#'''"
   ]
  },
  {
   "cell_type": "code",
   "execution_count": 186,
   "id": "fc34e6ae",
   "metadata": {},
   "outputs": [
    {
     "name": "stdout",
     "output_type": "stream",
     "text": [
      "Normalized confusion matrix\n",
      "[[20.9 12.8 13.8 12.6 15.2 14.6 10.2]\n",
      " [ 6.7 68.9  6.7  6.7  4.4  2.2  4.4]\n",
      " [10.7 14.3 50.1  7.1  7.1  7.1  3.6]\n",
      " [12.1  7.6  6.1 40.9 19.7  7.6  6.1]\n",
      " [11.3  8.1  4.8 12.9 41.9  6.5 14.5]\n",
      " [ 3.3  0.   1.6  4.9 18.  55.8 16.4]\n",
      " [ 1.6  0.   3.2  3.2  9.7  6.5 75.8]]\n"
     ]
    },
    {
     "data": {
      "image/png": "[encoded data removed]",
      "text/plain": [
       "<Figure size 432x288 with 1 Axes>"
      ]
     },
     "metadata": {
      "needs_background": "light"
     },
     "output_type": "display_data"
    }
   ],
   "source": [
    "#cm_plot_labels = ['0 kg','0.5 kg','1 kg','1.5 kg','2 kg','2.5 kg','3 kg']\n",
    "\n",
    "#plot_confusion_matrix(cm = cm,classes = cm_plot_labels,title='Confusion Matrix')"
   ]
  }
 ],
 "metadata": {
  "kernelspec": {
   "display_name": "Python 3",
   "language": "python",
   "name": "python3"
  },
  "language_info": {
   "codemirror_mode": {
    "name": "ipython",
    "version": 3
   },
   "file_extension": ".py",
   "mimetype": "text/x-python",
   "name": "python",
   "nbconvert_exporter": "python",
   "pygments_lexer": "ipython3",
   "version": "3.6.10"
  },
  "latex_envs": {
   "LaTeX_envs_menu_present": true,
   "autoclose": false,
   "autocomplete": true,
   "bibliofile": "biblio.bib",
   "cite_by": "apalike",
   "current_citInitial": 1,
   "eqLabelWithNumbers": true,
   "eqNumInitial": 1,
   "hotkeys": {
    "equation": "Ctrl-E",
    "itemize": "Ctrl-I"
   },
   "labels_anchors": false,
   "latex_user_defs": false,
   "report_style_numbering": false,
   "user_envs_cfg": false
  }
 },
 "nbformat": 4,
 "nbformat_minor": 5
}
